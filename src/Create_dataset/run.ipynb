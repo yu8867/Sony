{
 "cells": [
  {
   "cell_type": "code",
   "execution_count": 1,
   "id": "d9bfca95-2c0e-44d5-bcb5-559d0a167188",
   "metadata": {},
   "outputs": [],
   "source": [
    "import pandas as pd\n",
    "import numpy as np\n",
    "\n",
    "from Processing.load_dataset import Load_dataset\n",
    "from Processing.processing import Split, Valid, Submission\n",
    "from Engineering.enginnering import engin\n",
    "\n",
    "from Model.lightgbm import LightGBM\n",
    "from sklearn.metrics import mean_squared_error"
   ]
  },
  {
   "cell_type": "code",
   "execution_count": 8,
   "id": "420413ed-a3dd-450c-afe0-46025b5d30b2",
   "metadata": {},
   "outputs": [],
   "source": [
    "train, test = Load_dataset()\n",
    "\n",
    "# 加工・処理\n",
    "train_df = engin(train)\n",
    "\n",
    "# val, train, test\n",
    "X_train, X_test, y_train, y_test, index = Split(train_df)\n",
    "X_train, X_valid, y_train, y_valid = Valid(X_train, y_train)"
   ]
  },
  {
   "cell_type": "code",
   "execution_count": 9,
   "id": "11c3ac4e-171b-4e97-bec3-f3dc2082cb32",
   "metadata": {},
   "outputs": [
    {
     "name": "stderr",
     "output_type": "stream",
     "text": [
      "C:\\Users\\yu886\\Anaconda3\\lib\\site-packages\\lightgbm\\engine.py:181: UserWarning: 'early_stopping_rounds' argument is deprecated and will be removed in a future release of LightGBM. Pass 'early_stopping()' callback via 'callbacks' argument instead.\n",
      "  _log_warning(\"'early_stopping_rounds' argument is deprecated and will be removed in a future release of LightGBM. \"\n",
      "C:\\Users\\yu886\\Anaconda3\\lib\\site-packages\\lightgbm\\engine.py:239: UserWarning: 'verbose_eval' argument is deprecated and will be removed in a future release of LightGBM. Pass 'log_evaluation()' callback via 'callbacks' argument instead.\n",
      "  _log_warning(\"'verbose_eval' argument is deprecated and will be removed in a future release of LightGBM. \"\n",
      "C:\\Users\\yu886\\Anaconda3\\lib\\site-packages\\lightgbm\\engine.py:260: UserWarning: 'evals_result' argument is deprecated and will be removed in a future release of LightGBM. Pass 'record_evaluation()' callback via 'callbacks' argument instead.\n",
      "  _log_warning(\"'evals_result' argument is deprecated and will be removed in a future release of LightGBM. \"\n"
     ]
    },
    {
     "name": "stdout",
     "output_type": "stream",
     "text": [
      "[LightGBM] [Warning] Auto-choosing col-wise multi-threading, the overhead of testing was 0.011971 seconds.\n",
      "You can set `force_col_wise=true` to remove the overhead.\n",
      "[LightGBM] [Info] Total Bins 11474\n",
      "[LightGBM] [Info] Number of data points in the train set: 125401, number of used features: 45\n",
      "[LightGBM] [Info] Start training from score 59.230542\n",
      "Training until validation scores don't improve for 50 rounds\n",
      "Did not meet early stopping. Best iteration is:\n",
      "[100]\tTrain's rmse: 20.5499\tTest's rmse: 21.4856\n"
     ]
    },
    {
     "data": {
      "image/png": "[encoded data removed]",
      "text/plain": [
       "<Figure size 432x288 with 1 Axes>"
      ]
     },
     "metadata": {
      "needs_background": "light"
     },
     "output_type": "display_data"
    }
   ],
   "source": [
    "# 学習\n",
    "Light_GBM = LightGBM(X_train, X_valid, y_train, y_valid, fig=1)"
   ]
  },
  {
   "cell_type": "code",
   "execution_count": 10,
   "id": "2a3f4900-4338-4324-848c-dda18b0c7b34",
   "metadata": {},
   "outputs": [
    {
     "name": "stdout",
     "output_type": "stream",
     "text": [
      "21.44279646637248\n"
     ]
    }
   ],
   "source": [
    "# Test\n",
    "test_predict = Light_GBM.predict(X_test)\n",
    "print(np.sqrt(mean_squared_error(test_predict, y_test)))"
   ]
  },
  {
   "cell_type": "code",
   "execution_count": 11,
   "id": "8553fa84-499c-4edb-bdfd-db5536406f0e",
   "metadata": {},
   "outputs": [],
   "source": [
    "# create\n",
    "test_df = engin(test)\n",
    "index = np.array(test_df[\"id\"])\n",
    "test_df = test_df.drop(columns=[\"id\"])\n",
    "predict_light_gbm = Light_GBM.predict(data=test_df)\n",
    "\n",
    "# submit\n",
    "Submission(index, predict_light_gbm, name='3')"
   ]
  }
 ],
 "metadata": {
  "kernelspec": {
   "display_name": "Python 3",
   "language": "python",
   "name": "python3"
  },
  "language_info": {
   "codemirror_mode": {
    "name": "ipython",
    "version": 3
   },
   "file_extension": ".py",
   "mimetype": "text/x-python",
   "name": "python",
   "nbconvert_exporter": "python",
   "pygments_lexer": "ipython3",
   "version": "3.8.8"
  }
 },
 "nbformat": 4,
 "nbformat_minor": 5
}
