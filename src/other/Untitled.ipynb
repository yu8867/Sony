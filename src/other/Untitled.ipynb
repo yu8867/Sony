{
 "cells": [
  {
   "cell_type": "code",
   "execution_count": 8,
   "id": "ea4cfe40-813d-4baf-8d6d-2b49c2863f37",
   "metadata": {},
   "outputs": [],
   "source": [
    "import os\n",
    "import sys"
   ]
  },
  {
   "cell_type": "code",
   "execution_count": 13,
   "id": "103162a9-2d42-4910-ab3a-ec86bf1cfea6",
   "metadata": {},
   "outputs": [
    {
     "name": "stdout",
     "output_type": "stream",
     "text": [
      "['C:\\\\Users\\\\yu886\\\\OneDrive\\\\デスクトップ\\\\github\\\\Sony\\\\src\\\\other', 'C:\\\\Users\\\\yu886\\\\Anaconda3\\\\python38.zip', 'C:\\\\Users\\\\yu886\\\\Anaconda3\\\\DLLs', 'C:\\\\Users\\\\yu886\\\\Anaconda3\\\\lib', 'C:\\\\Users\\\\yu886\\\\Anaconda3', '', 'C:\\\\Users\\\\yu886\\\\AppData\\\\Roaming\\\\Python\\\\Python38\\\\site-packages', 'C:\\\\Users\\\\yu886\\\\Anaconda3\\\\lib\\\\site-packages', 'C:\\\\Users\\\\yu886\\\\Anaconda3\\\\lib\\\\site-packages\\\\locket-0.2.1-py3.8.egg', 'C:\\\\Users\\\\yu886\\\\Anaconda3\\\\lib\\\\site-packages\\\\win32', 'C:\\\\Users\\\\yu886\\\\Anaconda3\\\\lib\\\\site-packages\\\\win32\\\\lib', 'C:\\\\Users\\\\yu886\\\\Anaconda3\\\\lib\\\\site-packages\\\\Pythonwin', 'C:\\\\Users\\\\yu886\\\\Anaconda3\\\\lib\\\\site-packages\\\\IPython\\\\extensions', 'C:\\\\Users\\\\yu886\\\\.ipython', 'C:\\\\Users\\\\yu886\\\\OneDrive\\\\デスクトップ\\\\github\\\\Sony\\\\src']\n"
     ]
    }
   ],
   "source": [
    "print(sys.path)"
   ]
  },
  {
   "cell_type": "code",
   "execution_count": 11,
   "id": "f7c3dab5-3023-4fa1-a1d9-8f41efabc038",
   "metadata": {},
   "outputs": [],
   "source": [
    "sys.path.append('C:\\\\Users\\\\yu886\\\\OneDrive\\\\デスクトップ\\\\github\\\\Sony\\\\src')"
   ]
  },
  {
   "cell_type": "code",
   "execution_count": 12,
   "id": "44863f32-1201-4185-aea6-320ada3d7741",
   "metadata": {},
   "outputs": [],
   "source": [
    "from Processing import load_dataset"
   ]
  },
  {
   "cell_type": "code",
   "execution_count": null,
   "id": "6e15a84d-6dcb-47e3-a10c-e2f5483b1c0f",
   "metadata": {},
   "outputs": [],
   "source": []
  }
 ],
 "metadata": {
  "kernelspec": {
   "display_name": "Python 3",
   "language": "python",
   "name": "python3"
  },
  "language_info": {
   "codemirror_mode": {
    "name": "ipython",
    "version": 3
   },
   "file_extension": ".py",
   "mimetype": "text/x-python",
   "name": "python",
   "nbconvert_exporter": "python",
   "pygments_lexer": "ipython3",
   "version": "3.8.8"
  }
 },
 "nbformat": 4,
 "nbformat_minor": 5
}
