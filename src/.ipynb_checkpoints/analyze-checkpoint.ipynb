{
 "cells": [
  {
   "cell_type": "code",
   "execution_count": 1,
   "id": "155e7dce-6fff-40e2-8977-7181a06b2eef",
   "metadata": {},
   "outputs": [
    {
     "ename": "ModuleNotFoundError",
     "evalue": "No module named 'Processing'",
     "output_type": "error",
     "traceback": [
      "\u001b[1;31m---------------------------------------------------------------------------\u001b[0m",
      "\u001b[1;31mModuleNotFoundError\u001b[0m                       Traceback (most recent call last)",
      "\u001b[1;32m<ipython-input-1-b65996f672c7>\u001b[0m in \u001b[0;36m<module>\u001b[1;34m\u001b[0m\n\u001b[0;32m      6\u001b[0m \u001b[0mwarnings\u001b[0m\u001b[1;33m.\u001b[0m\u001b[0msimplefilter\u001b[0m\u001b[1;33m(\u001b[0m\u001b[1;34m'ignore'\u001b[0m\u001b[1;33m,\u001b[0m \u001b[0mcategory\u001b[0m\u001b[1;33m=\u001b[0m\u001b[0mUserWarning\u001b[0m\u001b[1;33m)\u001b[0m\u001b[1;33m\u001b[0m\u001b[1;33m\u001b[0m\u001b[0m\n\u001b[0;32m      7\u001b[0m \u001b[1;33m\u001b[0m\u001b[0m\n\u001b[1;32m----> 8\u001b[1;33m \u001b[1;32mfrom\u001b[0m \u001b[0mProcessing\u001b[0m\u001b[1;33m.\u001b[0m\u001b[0mload_dataset\u001b[0m \u001b[1;32mimport\u001b[0m \u001b[0mLoad_dataset\u001b[0m\u001b[1;33m\u001b[0m\u001b[1;33m\u001b[0m\u001b[0m\n\u001b[0m\u001b[0;32m      9\u001b[0m \u001b[1;32mfrom\u001b[0m \u001b[0mProcessing\u001b[0m\u001b[1;33m.\u001b[0m\u001b[0mprocessing\u001b[0m \u001b[1;32mimport\u001b[0m \u001b[0mSplit\u001b[0m\u001b[1;33m,\u001b[0m \u001b[0mValid\u001b[0m\u001b[1;33m,\u001b[0m \u001b[0mSubmission\u001b[0m\u001b[1;33m\u001b[0m\u001b[1;33m\u001b[0m\u001b[0m\n\u001b[0;32m     10\u001b[0m \u001b[1;32mfrom\u001b[0m \u001b[0mEngineering\u001b[0m\u001b[1;33m.\u001b[0m\u001b[0menginnering\u001b[0m \u001b[1;32mimport\u001b[0m \u001b[0mengin\u001b[0m\u001b[1;33m\u001b[0m\u001b[1;33m\u001b[0m\u001b[0m\n",
      "\u001b[1;31mModuleNotFoundError\u001b[0m: No module named 'Processing'"
     ]
    }
   ],
   "source": [
    "import pandas as pd\n",
    "import numpy as np\n",
    "import matplotlib.pyplot as plt\n",
    "import seaborn as sns\n",
    "import warnings\n",
    "warnings.simplefilter('ignore', category=UserWarning)\n",
    "\n",
    "from Processing.load_dataset import Load_dataset\n",
    "from Processing.processing import Split, Valid, Submission\n",
    "from Engineering.enginnering import engin"
   ]
  },
  {
   "cell_type": "code",
   "execution_count": null,
   "id": "4bb6ce04-37d0-4add-942c-c031b68d0f68",
   "metadata": {},
   "outputs": [],
   "source": [
    "train, test = Load_dataset()\n",
    "drop_col = ['id', 'year', 'month', 'day', 'Country', 'City', 'lat', 'lon']\n",
    "train_1 = train.drop(columns=drop_col)\n",
    "corr = train_1.corr()"
   ]
  },
  {
   "cell_type": "code",
   "execution_count": null,
   "id": "2c478405-8ea7-43af-b5e7-13fe723934e6",
   "metadata": {},
   "outputs": [],
   "source": [
    "plt.figure(figsize=(16,16))\n",
    "sns.heatmap(corr, cmap='Blues_r')\n",
    "plt.savefig('heatmap.png')"
   ]
  },
  {
   "cell_type": "code",
   "execution_count": null,
   "id": "5622bb8a-1fc7-4cd9-ada2-f0286c686831",
   "metadata": {},
   "outputs": [],
   "source": [
    "sns.pairplot(train_1)"
   ]
  },
  {
   "cell_type": "code",
   "execution_count": null,
   "id": "536b4aaa-8242-44c4-b321-191631c48e13",
   "metadata": {},
   "outputs": [],
   "source": [
    "plt.savefig('pairplot.png')"
   ]
  }
 ],
 "metadata": {
  "kernelspec": {
   "display_name": "Python 3",
   "language": "python",
   "name": "python3"
  },
  "language_info": {
   "codemirror_mode": {
    "name": "ipython",
    "version": 3
   },
   "file_extension": ".py",
   "mimetype": "text/x-python",
   "name": "python",
   "nbconvert_exporter": "python",
   "pygments_lexer": "ipython3",
   "version": "3.8.8"
  }
 },
 "nbformat": 4,
 "nbformat_minor": 5
}
