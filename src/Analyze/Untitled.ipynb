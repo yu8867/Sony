{
 "cells": [
  {
   "cell_type": "code",
   "execution_count": 10,
   "id": "f4dab5e3-c54c-4361-8694-1c74fae16c90",
   "metadata": {},
   "outputs": [
    {
     "name": "stdout",
     "output_type": "stream",
     "text": [
      "[1, 0, 5, 6, 11, 22, 39, 72, 133, 244, 449, 826, 1519, 2794, 5139, 9452, 17385, 31976, 58813, 108174, 198963, 365950, 673087, 1238000, 2277037, 4188124, 7703161, 14168322, 26059607, 47931090, 88159019]\n"
     ]
    }
   ],
   "source": [
    "s = [1,0,5]\n",
    "for i in range(28):\n",
    "    t = s[i]+s[i+1]+s[i+2]\n",
    "    s.append(t)\n",
    "print(s)"
   ]
  },
  {
   "cell_type": "code",
   "execution_count": 14,
   "id": "ad4db2c5-c0ad-4226-b90e-4a7096c0a008",
   "metadata": {},
   "outputs": [
    {
     "name": "stdout",
     "output_type": "stream",
     "text": [
      "65666665\n"
     ]
    }
   ],
   "source": [
    "sum = 0\n",
    "for i in range(1,51):\n",
    "    sum += i**4\n",
    "print(sum)"
   ]
  },
  {
   "cell_type": "code",
   "execution_count": 22,
   "id": "7f14c587-ede4-430b-803f-2bc692ed32b5",
   "metadata": {},
   "outputs": [
    {
     "name": "stdout",
     "output_type": "stream",
     "text": [
      "1835421\n",
      "15.000000378267234\n"
     ]
    }
   ],
   "source": [
    "sum = 0\n",
    "for i in range(1,10000000):\n",
    "    sum += (1/i)\n",
    "    if sum >=15:\n",
    "        print(i)\n",
    "        break\n",
    "print(sum)"
   ]
  },
  {
   "cell_type": "code",
   "execution_count": 43,
   "id": "31875307-2429-425a-985f-590e89d50f21",
   "metadata": {},
   "outputs": [
    {
     "name": "stdout",
     "output_type": "stream",
     "text": [
      "853084072\n"
     ]
    }
   ],
   "source": [
    "sum = 0\n",
    "index = []\n",
    "for i in range(1,50000):\n",
    "    a = str(i)\n",
    "    b = list(a)\n",
    "    \n",
    "    if i%3==0:\n",
    "        sum+=i\n",
    "\n",
    "    elif \"3\" in b:\n",
    "        sum+=i\n",
    "        \n",
    "print(sum)"
   ]
  },
  {
   "cell_type": "code",
   "execution_count": 28,
   "id": "8cebe44c-df83-461e-9f71-622caa2d0039",
   "metadata": {},
   "outputs": [
    {
     "data": {
      "text/plain": [
       "'5'"
      ]
     },
     "execution_count": 28,
     "metadata": {},
     "output_type": "execute_result"
    }
   ],
   "source": [
    "a = \"115\"\n",
    "b = list(a)\n",
    "b[-1]"
   ]
  },
  {
   "cell_type": "code",
   "execution_count": null,
   "id": "2ddbe053-6675-4e39-accb-6995a49d087a",
   "metadata": {},
   "outputs": [],
   "source": [
    "def foo(num):\n",
    "    conut=0\n",
    "    while True:\n",
    "        lst = [int(i) for i in list(str(num))]\n",
    "        if len(lst)==1:\n",
    "            return count"
   ]
  },
  {
   "cell_type": "code",
   "execution_count": null,
   "id": "24c956bb-5630-4913-a974-5ac0555ae807",
   "metadata": {},
   "outputs": [],
   "source": [
    "2007->2035"
   ]
  },
  {
   "cell_type": "code",
   "execution_count": 45,
   "id": "8fd59f44-ab87-4958-9aae-c6be68594b6c",
   "metadata": {},
   "outputs": [
    {
     "name": "stdout",
     "output_type": "stream",
     "text": [
      "2008\n",
      "2012\n",
      "2016\n",
      "2020\n",
      "2024\n",
      "2028\n",
      "2032\n",
      "10227\n"
     ]
    }
   ],
   "source": [
    "sum = 0\n",
    "for i in range(2007, 2035):\n",
    "    if i%4==0:\n",
    "        print(i)\n",
    "        sum+=366\n",
    "    else:\n",
    "        sum+=365\n",
    "        \n",
    "print(sum)"
   ]
  },
  {
   "cell_type": "code",
   "execution_count": null,
   "id": "edf36a9f-4ed7-4e9f-bb8d-b698adba3f2b",
   "metadata": {},
   "outputs": [],
   "source": []
  }
 ],
 "metadata": {
  "kernelspec": {
   "display_name": "Python 3",
   "language": "python",
   "name": "python3"
  },
  "language_info": {
   "codemirror_mode": {
    "name": "ipython",
    "version": 3
   },
   "file_extension": ".py",
   "mimetype": "text/x-python",
   "name": "python",
   "nbconvert_exporter": "python",
   "pygments_lexer": "ipython3",
   "version": "3.8.8"
  }
 },
 "nbformat": 4,
 "nbformat_minor": 5
}
