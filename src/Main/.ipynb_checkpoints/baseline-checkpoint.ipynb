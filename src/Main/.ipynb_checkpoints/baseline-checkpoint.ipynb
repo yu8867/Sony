{
 "cells": [
  {
   "cell_type": "code",
   "execution_count": 1,
   "id": "621ad552-bf7a-4fca-8e77-0e449d945f82",
   "metadata": {
    "tags": []
   },
   "outputs": [],
   "source": [
    "from sklearn.metrics import mean_absolute_error\n",
    "from sklearn.model_selection import ShuffleSplit\n",
    "from sklearn.model_selection import KFold\n",
    "import lightgbm as lgb\n",
    "import xgboost as xgb\n",
    "import numpy as np\n",
    "import pandas as pd\n",
    "\n",
    "import os\n",
    "import sys\n",
    "sys.path.append('C:\\\\Users\\\\yu886\\\\OneDrive\\\\デスクトップ\\\\github\\\\Sony\\\\src')\n",
    "\n",
    "from Processing.load_dataset import Load_dataset\n",
    "\n",
    "from Engineering.dummy import engin_2, engin\n",
    "\n",
    "from sklearn.metrics import mean_squared_error\n",
    "from sklearn.metrics import r2_score\n",
    "from sklearn.metrics import mean_absolute_error\n",
    "\n",
    "import warnings\n",
    "warnings.simplefilter('ignore', category=UserWarning)\n",
    "import matplotlib.pyplot as plt\n",
    "from Processing.processing import Submission"
   ]
  },
  {
   "cell_type": "code",
   "execution_count": 2,
   "id": "b702f1bf-a519-4e14-90bb-6694235e36a5",
   "metadata": {},
   "outputs": [],
   "source": [
    "def add(df_train):\n",
    "    df_train[\"co_avg\"] = df_train[\"co_mid\"] / df_train[\"co_cnt\"]\n",
    "    df_train[\"o3_avg\"] = df_train[\"o3_mid\"] / df_train[\"o3_cnt\"]\n",
    "    df_train[\"so2_avg\"] = df_train[\"so2_mid\"] / df_train[\"so2_cnt\"]\n",
    "    df_train[\"no2_avg\"] = df_train[\"no2_mid\"] / df_train[\"no2_cnt\"]\n",
    "    df_train[\"temperature_avg\"] = df_train[\"temperature_mid\"] / df_train[\"temperature_cnt\"]\n",
    "    df_train[\"humidity_avg\"] = df_train[\"humidity_mid\"] / df_train[\"humidity_cnt\"]\n",
    "    df_train[\"pressure_avg\"] = df_train[\"pressure_mid\"] / df_train[\"pressure_cnt\"]\n",
    "    df_train[\"ws_avg\"] = df_train[\"ws_mid\"] / df_train[\"ws_cnt\"]\n",
    "    df_train[\"dew_avg\"] = df_train[\"dew_mid\"] / df_train[\"dew_cnt\"]\n",
    "    return df_train\n",
    "\n",
    "def add_2(df):\n",
    "    df[\"discomfort\"] = 0.81*df[\"temperature_mid\"] + 0.01*df[\"humidity_mid\"]*(0.99*df[\"temperature_mid\"] - 14.3) + 46.3\n",
    "    return df\n",
    "\n",
    "def add_3(df):\n",
    "    df[\"avg_count\"] = (df_train[\"co_cnt\"] + df_train[\"o3_cnt\"] + df_train[\"so2_cnt\"] + df_train[\"no2_cnt\"] +\n",
    "                       df_train[\"temperature_cnt\"] + df_train[\"humidity_cnt\"] + df_train[\"pressure_cnt\"] + df_train[\"ws_cnt\"] + df_train[\"dew_cnt\"]) / 9\n",
    "    return df"
   ]
  },
  {
   "cell_type": "code",
   "execution_count": 7,
   "id": "7cd9e24e-3f84-47f9-9bba-a4e4e4c6ebaa",
   "metadata": {},
   "outputs": [],
   "source": [
    "train, test = Load_dataset()\n",
    "\n",
    "df_train = engin_2(train)\n",
    "df_test = engin_2(test)\n",
    "\n",
    "df_train = add(df_train)\n",
    "df_test = add(df_test)\n",
    "\n",
    "df_train = add_2(df_train)\n",
    "df_test = add_2(df_test)\n",
    "\n",
    "df_train = add_3(df_train)\n",
    "df_test = add_3(df_test)\n",
    "\n",
    "target = df_train[\"pm25_mid\"]\n",
    "\n",
    "df_train = df_train.drop([\"id\",\"pm25_mid\"], axis=1)\n",
    "df_test = df_test.drop([\"id\"], axis=1)\n",
    "\n",
    "publisher_train = train['City']\n",
    "unique_publisher = train['City'].unique()"
   ]
  },
  {
   "cell_type": "code",
   "execution_count": 8,
   "id": "ff9a7ee5-1247-41e9-b0af-e1fb5714af07",
   "metadata": {},
   "outputs": [
    {
     "name": "stdout",
     "output_type": "stream",
     "text": [
      "fold 0 MSE: 433.65964670210286 RMSE: 20.824496313286975 R^2: 0.6273265696251071 MAE: 15.144815952647726\n",
      "fold 1 MSE: 490.4381543630323 RMSE: 22.145838307976337 R^2: 0.6555928430461975 MAE: 16.036445026494356\n",
      "fold 2 MSE: 466.7595585954529 RMSE: 21.60461891807983 R^2: 0.6451460579103949 MAE: 15.529845632290147\n",
      "fold 3 MSE: 516.1983216573208 RMSE: 22.719998275909283 R^2: 0.6583782319676745 MAE: 16.527023843550708\n",
      "fold 4 MSE: 621.7459240717869 RMSE: 24.934833548106692 R^2: 0.6951277199706589 MAE: 16.70520602034777\n",
      "CV score: 22.445957072671824\n"
     ]
    }
   ],
   "source": [
    "FOLD = 5\n",
    "NUM_ROUND = 10000\n",
    "VERBOSE_EVAL = -1\n",
    "\n",
    "params = {\n",
    "    'objective': 'regression',\n",
    "    'boosting_type': 'gbdt',\n",
    "    'verbose': -1,\n",
    "    'learning_rate':0.01\n",
    "}\n",
    "\n",
    "valid_scores = []\n",
    "models = []\n",
    "\n",
    "kf = KFold(n_splits=FOLD, shuffle=True, random_state=123)\n",
    "for fold, (tr_group_idx, va_group_idx) in enumerate(kf.split(unique_publisher)):\n",
    "    tr_groups, va_groups = unique_publisher[tr_group_idx], unique_publisher[va_group_idx]\n",
    "    \n",
    "    is_tr = publisher_train.isin(tr_groups)\n",
    "    is_va = publisher_train.isin(va_groups)\n",
    "    # ここでCityの情報を消したい\n",
    "    \n",
    "    X_train, X_valid = df_train[is_tr], df_train[is_va]\n",
    "    y_train, y_valid = target[is_tr], target[is_va]\n",
    "    \n",
    "    X_train = X_train.drop(\"City\" ,axis=1)\n",
    "    X_valid = X_valid.drop(\"City\" ,axis=1)\n",
    "    \n",
    "    lgb_train = lgb.Dataset(X_train, y_train)\n",
    "    lgb_eval = lgb.Dataset(X_valid, y_valid)\n",
    "\n",
    "    model = lgb.train(\n",
    "        params,\n",
    "        lgb_train,\n",
    "        valid_sets=lgb_eval,\n",
    "        num_boost_round=NUM_ROUND,\n",
    "        verbose_eval=VERBOSE_EVAL\n",
    "    )\n",
    "\n",
    "    y_valid_pred = model.predict(X_valid)\n",
    "    MSE = mean_squared_error(y_valid, y_valid_pred)\n",
    "    r2 = r2_score(y_valid, y_valid_pred)\n",
    "    MAE = mean_absolute_error(y_valid, y_valid_pred)\n",
    "    \n",
    "    print(f'fold {fold} MSE: {MSE} RMSE: {np.sqrt(MSE)} R^2: {r2} MAE: {MAE}')\n",
    "    valid_scores.append(np.sqrt(MSE))\n",
    "    models.append(model)\n",
    "\n",
    "cv_score = np.mean(valid_scores)\n",
    "print(f'CV score: {cv_score}')"
   ]
  },
  {
   "cell_type": "code",
   "execution_count": 12,
   "id": "47a05c3c-b370-4a77-9310-61c67d357d57",
   "metadata": {},
   "outputs": [],
   "source": [
    "train, test = Load_dataset()\n",
    "\n",
    "df_train = engin_2(train)\n",
    "df_test = engin_2(test)\n",
    "\n",
    "target = df_train[\"pm25_mid\"]\n",
    "\n",
    "df_train = df_train.drop([\"id\",\"pm25_mid\"], axis=1)\n",
    "df_test = df_test.drop([\"id\"], axis=1)\n",
    "\n",
    "publisher_train = train['City']\n",
    "unique_publisher = train['City'].unique()"
   ]
  },
  {
   "cell_type": "code",
   "execution_count": 13,
   "id": "0b69653b-6b6e-4cb9-b65d-14d3d0a8de14",
   "metadata": {},
   "outputs": [
    {
     "name": "stdout",
     "output_type": "stream",
     "text": [
      "fold 0 MSE: 433.23946246968353 RMSE: 20.81440516732783 R^2: 0.6276876627092249 MAE: 15.134872706610516\n",
      "fold 1 MSE: 484.79337842458307 RMSE: 22.01802394459101 R^2: 0.6595568519947416 MAE: 15.932107784315567\n",
      "fold 2 MSE: 462.36774483543445 RMSE: 21.5027380776364 R^2: 0.6484849342054098 MAE: 15.457383564804662\n",
      "fold 3 MSE: 508.1258808215025 RMSE: 22.541647695354982 R^2: 0.663720600191218 MAE: 16.4073247279028\n",
      "fold 4 MSE: 613.3321222230056 RMSE: 24.765543043167973 R^2: 0.6992534164232453 MAE: 16.618186178742075\n",
      "CV score: 22.32847158561564\n"
     ]
    }
   ],
   "source": [
    "FOLD = 5\n",
    "NUM_ROUND = 10000\n",
    "VERBOSE_EVAL = -1\n",
    "\n",
    "params = {\n",
    "    'objective': 'regression',\n",
    "    'boosting_type': 'gbdt',\n",
    "    'verbose': -1,\n",
    "    'learning_rate':0.01\n",
    "}\n",
    "\n",
    "valid_scores = []\n",
    "models = []\n",
    "\n",
    "kf = KFold(n_splits=FOLD, shuffle=True, random_state=123)\n",
    "for fold, (tr_group_idx, va_group_idx) in enumerate(kf.split(unique_publisher)):\n",
    "    tr_groups, va_groups = unique_publisher[tr_group_idx], unique_publisher[va_group_idx]\n",
    "    \n",
    "    is_tr = publisher_train.isin(tr_groups)\n",
    "    is_va = publisher_train.isin(va_groups)\n",
    "    # ここでCityの情報を消したい\n",
    "    \n",
    "    X_train, X_valid = df_train[is_tr], df_train[is_va]\n",
    "    y_train, y_valid = target[is_tr], target[is_va]\n",
    "    \n",
    "    X_train = X_train.drop(\"City\" ,axis=1)\n",
    "    X_valid = X_valid.drop(\"City\" ,axis=1)\n",
    "    \n",
    "    lgb_train = lgb.Dataset(X_train, y_train)\n",
    "    lgb_eval = lgb.Dataset(X_valid, y_valid)\n",
    "\n",
    "    model = lgb.train(\n",
    "        params,\n",
    "        lgb_train,\n",
    "        valid_sets=lgb_eval,\n",
    "        num_boost_round=NUM_ROUND,\n",
    "        verbose_eval=VERBOSE_EVAL\n",
    "    )\n",
    "\n",
    "    y_valid_pred = model.predict(X_valid)\n",
    "    MSE = mean_squared_error(y_valid, y_valid_pred)\n",
    "    r2 = r2_score(y_valid, y_valid_pred)\n",
    "    MAE = mean_absolute_error(y_valid, y_valid_pred)\n",
    "    \n",
    "    print(f'fold {fold} MSE: {MSE} RMSE: {np.sqrt(MSE)} R^2: {r2} MAE: {MAE}')\n",
    "    valid_scores.append(np.sqrt(MSE))\n",
    "    models.append(model)\n",
    "\n",
    "cv_score = np.mean(valid_scores)\n",
    "print(f'CV score: {cv_score}')"
   ]
  },
  {
   "cell_type": "code",
   "execution_count": 7,
   "id": "9ed67237-6015-411c-a48a-32d16a057187",
   "metadata": {},
   "outputs": [
    {
     "data": {
      "text/plain": [
       "array([23.27969884, 39.04809959, 23.66257006, ..., 66.87592214,\n",
       "       34.7394687 , 35.77972298])"
      ]
     },
     "execution_count": 7,
     "metadata": {},
     "output_type": "execute_result"
    }
   ],
   "source": [
    "# df_test = df_test.drop('City', axis=1)\n",
    "pred_1 = models[0].predict(df_test)\n",
    "pred_2 = models[1].predict(df_test)\n",
    "pred_3 = models[2].predict(df_test)\n",
    "pred_4 = models[3].predict(df_test)\n",
    "pred_5 = models[4].predict(df_test)\n",
    "\n",
    "pred = np.stack([pred_1, pred_2, pred_3 ,pred_4, pred_5], axis=1)\n",
    "pred = np.mean(pred, axis=1)\n",
    "\n",
    "index = test[\"id\"]\n",
    "Submission(index, pred, name='lgb_group_2')\n",
    "pred"
   ]
  },
  {
   "cell_type": "code",
   "execution_count": 2,
   "id": "ffe38020-83a7-4d40-94a8-6cebdfa6b835",
   "metadata": {},
   "outputs": [],
   "source": [
    "train, test = Load_dataset()\n",
    "\n",
    "df_train = engin_2(train)\n",
    "df_test = engin_2(test)\n",
    "\n",
    "target = df_train[\"pm25_mid\"]\n",
    "\n",
    "df_train = df_train.drop([\"id\",\"pm25_mid\"], axis=1)\n",
    "df_test = df_test.drop([\"id\"], axis=1)\n",
    "\n",
    "publisher_train = train['City']\n",
    "unique_publisher = train['City'].unique()"
   ]
  },
  {
   "cell_type": "code",
   "execution_count": 4,
   "id": "5c0860e8-e471-47a0-b1b6-f5b6d5b3c258",
   "metadata": {},
   "outputs": [
    {
     "name": "stdout",
     "output_type": "stream",
     "text": [
      "fold 0 MSE: 433.2742088027439 RMSE: 20.815239820927932 R^2: 0.6276578028058815 MAE: 15.127949267609116\n",
      "fold 1 MSE: 484.8196701743738 RMSE: 22.018620987118467 R^2: 0.6595383887762578 MAE: 15.933691388699774\n",
      "fold 2 MSE: 462.8362746632746 RMSE: 21.513629974118142 R^2: 0.6481287344161737 MAE: 15.460176242064172\n",
      "fold 3 MSE: 506.1455462154293 RMSE: 22.497678685042803 R^2: 0.6650311922273375 MAE: 16.385682186264603\n",
      "fold 4 MSE: 611.8949709411876 RMSE: 24.736510888587087 R^2: 0.6999581216268846 MAE: 16.607792667936415\n",
      "CV score: 22.316336071158887\n"
     ]
    }
   ],
   "source": [
    "FOLD = 5\n",
    "NUM_ROUND = 10000\n",
    "VERBOSE_EVAL = -1\n",
    "\n",
    "params = {\n",
    "    'objective': 'regression',\n",
    "    'boosting_type': 'gbdt',\n",
    "    'verbose': -1,\n",
    "    'learning_rate':0.01\n",
    "}\n",
    "\n",
    "valid_scores = []\n",
    "models = []\n",
    "\n",
    "kf = KFold(n_splits=FOLD, shuffle=True, random_state=123)\n",
    "for fold, (tr_group_idx, va_group_idx) in enumerate(kf.split(unique_publisher)):\n",
    "    tr_groups, va_groups = unique_publisher[tr_group_idx], unique_publisher[va_group_idx]\n",
    "    \n",
    "    is_tr = publisher_train.isin(tr_groups)\n",
    "    is_va = publisher_train.isin(va_groups)\n",
    "    # ここでCityの情報を消したい\n",
    "    \n",
    "    X_train, X_valid = df_train[is_tr], df_train[is_va]\n",
    "    y_train, y_valid = target[is_tr], target[is_va]\n",
    "    \n",
    "    X_train = X_train.drop(\"City\" ,axis=1)\n",
    "    X_valid = X_valid.drop(\"City\" ,axis=1)\n",
    "    \n",
    "    lgb_train = lgb.Dataset(X_train, y_train)\n",
    "    lgb_eval = lgb.Dataset(X_valid, y_valid)\n",
    "\n",
    "    model = lgb.train(\n",
    "        params,\n",
    "        lgb_train,\n",
    "        valid_sets=lgb_eval,\n",
    "        num_boost_round=NUM_ROUND,\n",
    "        verbose_eval=VERBOSE_EVAL\n",
    "    )\n",
    "\n",
    "    y_valid_pred = model.predict(X_valid)\n",
    "    MSE = mean_squared_error(y_valid, y_valid_pred)\n",
    "    r2 = r2_score(y_valid, y_valid_pred)\n",
    "    MAE = mean_absolute_error(y_valid, y_valid_pred)\n",
    "    \n",
    "    print(f'fold {fold} MSE: {MSE} RMSE: {np.sqrt(MSE)} R^2: {r2} MAE: {MAE}')\n",
    "    valid_scores.append(np.sqrt(MSE))\n",
    "    models.append(model)\n",
    "\n",
    "cv_score = np.mean(valid_scores)\n",
    "print(f'CV score: {cv_score}')"
   ]
  },
  {
   "cell_type": "code",
   "execution_count": 10,
   "id": "f50bc8dc-6d59-44d6-aeaf-d48926e1e36d",
   "metadata": {},
   "outputs": [
    {
     "data": {
      "text/plain": [
       "array([27.38051623, 38.83449391, 23.47738366, ..., 66.69708225,\n",
       "       34.7743657 , 36.07596373])"
      ]
     },
     "execution_count": 10,
     "metadata": {},
     "output_type": "execute_result"
    }
   ],
   "source": [
    "# df_test = df_test.drop('City', axis=1)\n",
    "pred_1 = models[0].predict(df_test)\n",
    "pred_2 = models[1].predict(df_test)\n",
    "pred_3 = models[2].predict(df_test)\n",
    "pred_4 = models[3].predict(df_test)\n",
    "pred_5 = models[4].predict(df_test)\n",
    "\n",
    "pred = np.stack([pred_1, pred_2, pred_3 ,pred_4, pred_5], axis=1)\n",
    "pred = np.mean(pred, axis=1)\n",
    "\n",
    "index = test[\"id\"]\n",
    "Submission(index, pred, name='lgb_group_3')\n",
    "pred"
   ]
  },
  {
   "cell_type": "code",
   "execution_count": 7,
   "id": "112a09e6-0804-4aec-af0b-edd72989929c",
   "metadata": {},
   "outputs": [],
   "source": [
    "df_train = add_2(df_train)\n",
    "df_test = add_2(df_test)\n",
    "\n",
    "df_train = add_3(df_train)\n",
    "df_test = add_3(df_test)"
   ]
  },
  {
   "cell_type": "code",
   "execution_count": 8,
   "id": "48095143-6e96-48d0-9d6d-f7f1be38ff5c",
   "metadata": {},
   "outputs": [
    {
     "name": "stdout",
     "output_type": "stream",
     "text": [
      "fold 0 MSE: 433.016001535848 RMSE: 20.809036535501782 R^2: 0.6278796979917343 MAE: 15.125593533275458\n",
      "fold 1 MSE: 485.64518627653797 RMSE: 22.0373588770646 R^2: 0.6589586752053689 MAE: 15.954829472971637\n",
      "fold 2 MSE: 464.49595710189993 RMSE: 21.552168269153338 R^2: 0.6468669608860604 MAE: 15.483612288087237\n",
      "fold 3 MSE: 511.1409750929699 RMSE: 22.608427081355526 R^2: 0.6617252007631537 MAE: 16.461441493225\n",
      "fold 4 MSE: 618.4209698333672 RMSE: 24.868071292992692 R^2: 0.6967581068222874 MAE: 16.66996016907186\n",
      "CV score: 22.37501241121359\n"
     ]
    }
   ],
   "source": [
    "FOLD = 5\n",
    "NUM_ROUND = 10000\n",
    "VERBOSE_EVAL = -1\n",
    "\n",
    "params = {\n",
    "    'objective': 'regression',\n",
    "    'boosting_type': 'gbdt',\n",
    "    'verbose': -1,\n",
    "    'learning_rate':0.01\n",
    "}\n",
    "\n",
    "valid_scores = []\n",
    "models = []\n",
    "\n",
    "kf = KFold(n_splits=FOLD, shuffle=True, random_state=123)\n",
    "for fold, (tr_group_idx, va_group_idx) in enumerate(kf.split(unique_publisher)):\n",
    "    tr_groups, va_groups = unique_publisher[tr_group_idx], unique_publisher[va_group_idx]\n",
    "    \n",
    "    is_tr = publisher_train.isin(tr_groups)\n",
    "    is_va = publisher_train.isin(va_groups)\n",
    "    # ここでCityの情報を消したい\n",
    "    \n",
    "    X_train, X_valid = df_train[is_tr], df_train[is_va]\n",
    "    y_train, y_valid = target[is_tr], target[is_va]\n",
    "    \n",
    "    X_train = X_train.drop(\"City\" ,axis=1)\n",
    "    X_valid = X_valid.drop(\"City\" ,axis=1)\n",
    "    \n",
    "    lgb_train = lgb.Dataset(X_train, y_train)\n",
    "    lgb_eval = lgb.Dataset(X_valid, y_valid)\n",
    "\n",
    "    model = lgb.train(\n",
    "        params,\n",
    "        lgb_train,\n",
    "        valid_sets=lgb_eval,\n",
    "        num_boost_round=NUM_ROUND,\n",
    "        verbose_eval=VERBOSE_EVAL\n",
    "    )\n",
    "\n",
    "    y_valid_pred = model.predict(X_valid)\n",
    "    MSE = mean_squared_error(y_valid, y_valid_pred)\n",
    "    r2 = r2_score(y_valid, y_valid_pred)\n",
    "    MAE = mean_absolute_error(y_valid, y_valid_pred)\n",
    "    \n",
    "    print(f'fold {fold} MSE: {MSE} RMSE: {np.sqrt(MSE)} R^2: {r2} MAE: {MAE}')\n",
    "    valid_scores.append(np.sqrt(MSE))\n",
    "    models.append(model)\n",
    "\n",
    "cv_score = np.mean(valid_scores)\n",
    "print(f'CV score: {cv_score}')"
   ]
  },
  {
   "cell_type": "code",
   "execution_count": 3,
   "id": "d11ea054-bdea-4a05-8963-d97f3f4cd104",
   "metadata": {},
   "outputs": [],
   "source": [
    "import sklearn.preprocessing as preproc"
   ]
  },
  {
   "cell_type": "code",
   "execution_count": 5,
   "id": "1a3b11f3-cb26-4110-9157-84dfcbdc594e",
   "metadata": {},
   "outputs": [
    {
     "ename": "KeyError",
     "evalue": "\"['weekday'] not found in axis\"",
     "output_type": "error",
     "traceback": [
      "\u001b[1;31m---------------------------------------------------------------------------\u001b[0m",
      "\u001b[1;31mKeyError\u001b[0m                                  Traceback (most recent call last)",
      "\u001b[1;32m<ipython-input-5-620adea04395>\u001b[0m in \u001b[0;36m<module>\u001b[1;34m\u001b[0m\n\u001b[0;32m      1\u001b[0m \u001b[0mtrain\u001b[0m\u001b[1;33m,\u001b[0m \u001b[0mtest\u001b[0m \u001b[1;33m=\u001b[0m \u001b[0mLoad_dataset\u001b[0m\u001b[1;33m(\u001b[0m\u001b[1;33m)\u001b[0m\u001b[1;33m\u001b[0m\u001b[1;33m\u001b[0m\u001b[0m\n\u001b[0;32m      2\u001b[0m \u001b[1;33m\u001b[0m\u001b[0m\n\u001b[1;32m----> 3\u001b[1;33m \u001b[0mdf_train\u001b[0m \u001b[1;33m=\u001b[0m \u001b[0mengin_2\u001b[0m\u001b[1;33m(\u001b[0m\u001b[0mtrain\u001b[0m\u001b[1;33m)\u001b[0m\u001b[1;33m\u001b[0m\u001b[1;33m\u001b[0m\u001b[0m\n\u001b[0m\u001b[0;32m      4\u001b[0m \u001b[0mdf_test\u001b[0m \u001b[1;33m=\u001b[0m \u001b[0mengin_2\u001b[0m\u001b[1;33m(\u001b[0m\u001b[0mtest\u001b[0m\u001b[1;33m)\u001b[0m\u001b[1;33m\u001b[0m\u001b[1;33m\u001b[0m\u001b[0m\n\u001b[0;32m      5\u001b[0m \u001b[1;33m\u001b[0m\u001b[0m\n",
      "\u001b[1;32m~\\OneDrive\\デスクトップ\\github\\Sony\\src\\Engineering\\dummy.py\u001b[0m in \u001b[0;36mengin_2\u001b[1;34m(df)\u001b[0m\n\u001b[0;32m     68\u001b[0m     \u001b[0mdf\u001b[0m\u001b[1;33m[\u001b[0m\u001b[1;34m\"dew_std\"\u001b[0m\u001b[1;33m]\u001b[0m \u001b[1;33m=\u001b[0m \u001b[0mnp\u001b[0m\u001b[1;33m.\u001b[0m\u001b[0msqrt\u001b[0m\u001b[1;33m(\u001b[0m\u001b[0mdf\u001b[0m\u001b[1;33m[\u001b[0m\u001b[1;34m\"dew_var\"\u001b[0m\u001b[1;33m]\u001b[0m\u001b[1;33m)\u001b[0m\u001b[1;33m\u001b[0m\u001b[1;33m\u001b[0m\u001b[0m\n\u001b[0;32m     69\u001b[0m \u001b[1;33m\u001b[0m\u001b[0m\n\u001b[1;32m---> 70\u001b[1;33m     \u001b[0mdf\u001b[0m \u001b[1;33m=\u001b[0m \u001b[0mdf\u001b[0m\u001b[1;33m.\u001b[0m\u001b[0mdrop\u001b[0m\u001b[1;33m(\u001b[0m\u001b[0mdrop_cols\u001b[0m \u001b[1;33m,\u001b[0m\u001b[0maxis\u001b[0m\u001b[1;33m=\u001b[0m\u001b[1;36m1\u001b[0m\u001b[1;33m)\u001b[0m\u001b[1;33m\u001b[0m\u001b[1;33m\u001b[0m\u001b[0m\n\u001b[0m\u001b[0;32m     71\u001b[0m     \u001b[1;32mreturn\u001b[0m \u001b[0mdf\u001b[0m\u001b[1;33m\u001b[0m\u001b[1;33m\u001b[0m\u001b[0m\n\u001b[0;32m     72\u001b[0m \u001b[1;33m\u001b[0m\u001b[0m\n",
      "\u001b[1;32m~\\AppData\\Roaming\\Python\\Python38\\site-packages\\pandas\\util\\_decorators.py\u001b[0m in \u001b[0;36mwrapper\u001b[1;34m(*args, **kwargs)\u001b[0m\n\u001b[0;32m    309\u001b[0m                     \u001b[0mstacklevel\u001b[0m\u001b[1;33m=\u001b[0m\u001b[0mstacklevel\u001b[0m\u001b[1;33m,\u001b[0m\u001b[1;33m\u001b[0m\u001b[1;33m\u001b[0m\u001b[0m\n\u001b[0;32m    310\u001b[0m                 )\n\u001b[1;32m--> 311\u001b[1;33m             \u001b[1;32mreturn\u001b[0m \u001b[0mfunc\u001b[0m\u001b[1;33m(\u001b[0m\u001b[1;33m*\u001b[0m\u001b[0margs\u001b[0m\u001b[1;33m,\u001b[0m \u001b[1;33m**\u001b[0m\u001b[0mkwargs\u001b[0m\u001b[1;33m)\u001b[0m\u001b[1;33m\u001b[0m\u001b[1;33m\u001b[0m\u001b[0m\n\u001b[0m\u001b[0;32m    312\u001b[0m \u001b[1;33m\u001b[0m\u001b[0m\n\u001b[0;32m    313\u001b[0m         \u001b[1;32mreturn\u001b[0m \u001b[0mwrapper\u001b[0m\u001b[1;33m\u001b[0m\u001b[1;33m\u001b[0m\u001b[0m\n",
      "\u001b[1;32m~\\AppData\\Roaming\\Python\\Python38\\site-packages\\pandas\\core\\frame.py\u001b[0m in \u001b[0;36mdrop\u001b[1;34m(self, labels, axis, index, columns, level, inplace, errors)\u001b[0m\n\u001b[0;32m   4904\u001b[0m                 \u001b[0mweight\u001b[0m  \u001b[1;36m1.0\u001b[0m     \u001b[1;36m0.8\u001b[0m\u001b[1;33m\u001b[0m\u001b[1;33m\u001b[0m\u001b[0m\n\u001b[0;32m   4905\u001b[0m         \"\"\"\n\u001b[1;32m-> 4906\u001b[1;33m         return super().drop(\n\u001b[0m\u001b[0;32m   4907\u001b[0m             \u001b[0mlabels\u001b[0m\u001b[1;33m=\u001b[0m\u001b[0mlabels\u001b[0m\u001b[1;33m,\u001b[0m\u001b[1;33m\u001b[0m\u001b[1;33m\u001b[0m\u001b[0m\n\u001b[0;32m   4908\u001b[0m             \u001b[0maxis\u001b[0m\u001b[1;33m=\u001b[0m\u001b[0maxis\u001b[0m\u001b[1;33m,\u001b[0m\u001b[1;33m\u001b[0m\u001b[1;33m\u001b[0m\u001b[0m\n",
      "\u001b[1;32m~\\AppData\\Roaming\\Python\\Python38\\site-packages\\pandas\\core\\generic.py\u001b[0m in \u001b[0;36mdrop\u001b[1;34m(self, labels, axis, index, columns, level, inplace, errors)\u001b[0m\n\u001b[0;32m   4148\u001b[0m         \u001b[1;32mfor\u001b[0m \u001b[0maxis\u001b[0m\u001b[1;33m,\u001b[0m \u001b[0mlabels\u001b[0m \u001b[1;32min\u001b[0m \u001b[0maxes\u001b[0m\u001b[1;33m.\u001b[0m\u001b[0mitems\u001b[0m\u001b[1;33m(\u001b[0m\u001b[1;33m)\u001b[0m\u001b[1;33m:\u001b[0m\u001b[1;33m\u001b[0m\u001b[1;33m\u001b[0m\u001b[0m\n\u001b[0;32m   4149\u001b[0m             \u001b[1;32mif\u001b[0m \u001b[0mlabels\u001b[0m \u001b[1;32mis\u001b[0m \u001b[1;32mnot\u001b[0m \u001b[1;32mNone\u001b[0m\u001b[1;33m:\u001b[0m\u001b[1;33m\u001b[0m\u001b[1;33m\u001b[0m\u001b[0m\n\u001b[1;32m-> 4150\u001b[1;33m                 \u001b[0mobj\u001b[0m \u001b[1;33m=\u001b[0m \u001b[0mobj\u001b[0m\u001b[1;33m.\u001b[0m\u001b[0m_drop_axis\u001b[0m\u001b[1;33m(\u001b[0m\u001b[0mlabels\u001b[0m\u001b[1;33m,\u001b[0m \u001b[0maxis\u001b[0m\u001b[1;33m,\u001b[0m \u001b[0mlevel\u001b[0m\u001b[1;33m=\u001b[0m\u001b[0mlevel\u001b[0m\u001b[1;33m,\u001b[0m \u001b[0merrors\u001b[0m\u001b[1;33m=\u001b[0m\u001b[0merrors\u001b[0m\u001b[1;33m)\u001b[0m\u001b[1;33m\u001b[0m\u001b[1;33m\u001b[0m\u001b[0m\n\u001b[0m\u001b[0;32m   4151\u001b[0m \u001b[1;33m\u001b[0m\u001b[0m\n\u001b[0;32m   4152\u001b[0m         \u001b[1;32mif\u001b[0m \u001b[0minplace\u001b[0m\u001b[1;33m:\u001b[0m\u001b[1;33m\u001b[0m\u001b[1;33m\u001b[0m\u001b[0m\n",
      "\u001b[1;32m~\\AppData\\Roaming\\Python\\Python38\\site-packages\\pandas\\core\\generic.py\u001b[0m in \u001b[0;36m_drop_axis\u001b[1;34m(self, labels, axis, level, errors)\u001b[0m\n\u001b[0;32m   4183\u001b[0m                 \u001b[0mnew_axis\u001b[0m \u001b[1;33m=\u001b[0m \u001b[0maxis\u001b[0m\u001b[1;33m.\u001b[0m\u001b[0mdrop\u001b[0m\u001b[1;33m(\u001b[0m\u001b[0mlabels\u001b[0m\u001b[1;33m,\u001b[0m \u001b[0mlevel\u001b[0m\u001b[1;33m=\u001b[0m\u001b[0mlevel\u001b[0m\u001b[1;33m,\u001b[0m \u001b[0merrors\u001b[0m\u001b[1;33m=\u001b[0m\u001b[0merrors\u001b[0m\u001b[1;33m)\u001b[0m\u001b[1;33m\u001b[0m\u001b[1;33m\u001b[0m\u001b[0m\n\u001b[0;32m   4184\u001b[0m             \u001b[1;32melse\u001b[0m\u001b[1;33m:\u001b[0m\u001b[1;33m\u001b[0m\u001b[1;33m\u001b[0m\u001b[0m\n\u001b[1;32m-> 4185\u001b[1;33m                 \u001b[0mnew_axis\u001b[0m \u001b[1;33m=\u001b[0m \u001b[0maxis\u001b[0m\u001b[1;33m.\u001b[0m\u001b[0mdrop\u001b[0m\u001b[1;33m(\u001b[0m\u001b[0mlabels\u001b[0m\u001b[1;33m,\u001b[0m \u001b[0merrors\u001b[0m\u001b[1;33m=\u001b[0m\u001b[0merrors\u001b[0m\u001b[1;33m)\u001b[0m\u001b[1;33m\u001b[0m\u001b[1;33m\u001b[0m\u001b[0m\n\u001b[0m\u001b[0;32m   4186\u001b[0m             \u001b[0mresult\u001b[0m \u001b[1;33m=\u001b[0m \u001b[0mself\u001b[0m\u001b[1;33m.\u001b[0m\u001b[0mreindex\u001b[0m\u001b[1;33m(\u001b[0m\u001b[1;33m**\u001b[0m\u001b[1;33m{\u001b[0m\u001b[0maxis_name\u001b[0m\u001b[1;33m:\u001b[0m \u001b[0mnew_axis\u001b[0m\u001b[1;33m}\u001b[0m\u001b[1;33m)\u001b[0m\u001b[1;33m\u001b[0m\u001b[1;33m\u001b[0m\u001b[0m\n\u001b[0;32m   4187\u001b[0m \u001b[1;33m\u001b[0m\u001b[0m\n",
      "\u001b[1;32m~\\AppData\\Roaming\\Python\\Python38\\site-packages\\pandas\\core\\indexes\\base.py\u001b[0m in \u001b[0;36mdrop\u001b[1;34m(self, labels, errors)\u001b[0m\n\u001b[0;32m   6015\u001b[0m         \u001b[1;32mif\u001b[0m \u001b[0mmask\u001b[0m\u001b[1;33m.\u001b[0m\u001b[0many\u001b[0m\u001b[1;33m(\u001b[0m\u001b[1;33m)\u001b[0m\u001b[1;33m:\u001b[0m\u001b[1;33m\u001b[0m\u001b[1;33m\u001b[0m\u001b[0m\n\u001b[0;32m   6016\u001b[0m             \u001b[1;32mif\u001b[0m \u001b[0merrors\u001b[0m \u001b[1;33m!=\u001b[0m \u001b[1;34m\"ignore\"\u001b[0m\u001b[1;33m:\u001b[0m\u001b[1;33m\u001b[0m\u001b[1;33m\u001b[0m\u001b[0m\n\u001b[1;32m-> 6017\u001b[1;33m                 \u001b[1;32mraise\u001b[0m \u001b[0mKeyError\u001b[0m\u001b[1;33m(\u001b[0m\u001b[1;34mf\"{labels[mask]} not found in axis\"\u001b[0m\u001b[1;33m)\u001b[0m\u001b[1;33m\u001b[0m\u001b[1;33m\u001b[0m\u001b[0m\n\u001b[0m\u001b[0;32m   6018\u001b[0m             \u001b[0mindexer\u001b[0m \u001b[1;33m=\u001b[0m \u001b[0mindexer\u001b[0m\u001b[1;33m[\u001b[0m\u001b[1;33m~\u001b[0m\u001b[0mmask\u001b[0m\u001b[1;33m]\u001b[0m\u001b[1;33m\u001b[0m\u001b[1;33m\u001b[0m\u001b[0m\n\u001b[0;32m   6019\u001b[0m         \u001b[1;32mreturn\u001b[0m \u001b[0mself\u001b[0m\u001b[1;33m.\u001b[0m\u001b[0mdelete\u001b[0m\u001b[1;33m(\u001b[0m\u001b[0mindexer\u001b[0m\u001b[1;33m)\u001b[0m\u001b[1;33m\u001b[0m\u001b[1;33m\u001b[0m\u001b[0m\n",
      "\u001b[1;31mKeyError\u001b[0m: \"['weekday'] not found in axis\""
     ]
    }
   ],
   "source": [
    "train, test = Load_dataset()\n",
    "\n",
    "df_train = engin_2(train)\n",
    "df_test = engin_2(test)\n",
    "\n",
    "target = df_train[\"pm25_mid\"]\n",
    "\n",
    "df_train = df_train.drop([\"id\",\"pm25_mid\"], axis=1)\n",
    "df_test = df_test.drop([\"id\"], axis=1)\n",
    "\n",
    "publisher_train = train['City']\n",
    "unique_publisher = train['City'].unique()"
   ]
  },
  {
   "cell_type": "code",
   "execution_count": 4,
   "id": "206f4157-ab7a-4418-bc4c-1443ab151715",
   "metadata": {},
   "outputs": [
    {
     "ename": "NameError",
     "evalue": "name 'df_train' is not defined",
     "output_type": "error",
     "traceback": [
      "\u001b[1;31m---------------------------------------------------------------------------\u001b[0m",
      "\u001b[1;31mNameError\u001b[0m                                 Traceback (most recent call last)",
      "\u001b[1;32m<ipython-input-4-f73fc002c5a4>\u001b[0m in \u001b[0;36m<module>\u001b[1;34m\u001b[0m\n\u001b[0;32m      7\u001b[0m        'ws_mid', 'ws_max', 'dew_min', 'dew_mid', 'dew_max']\n\u001b[0;32m      8\u001b[0m \u001b[1;33m\u001b[0m\u001b[0m\n\u001b[1;32m----> 9\u001b[1;33m \u001b[0mX1\u001b[0m \u001b[1;33m=\u001b[0m \u001b[0mdf_train\u001b[0m\u001b[1;33m[\u001b[0m\u001b[0mpos\u001b[0m\u001b[1;33m]\u001b[0m\u001b[1;33m\u001b[0m\u001b[1;33m\u001b[0m\u001b[0m\n\u001b[0m\u001b[0;32m     10\u001b[0m \u001b[1;33m\u001b[0m\u001b[0m\n\u001b[0;32m     11\u001b[0m \u001b[1;31m# ペアワイズ交互作用特徴量\u001b[0m\u001b[1;33m\u001b[0m\u001b[1;33m\u001b[0m\u001b[1;33m\u001b[0m\u001b[0m\n",
      "\u001b[1;31mNameError\u001b[0m: name 'df_train' is not defined"
     ]
    }
   ],
   "source": [
    "pos = ['co_min', 'co_mid', 'co_max','o3_min',\n",
    "       'o3_mid', 'o3_max', 'so2_min', 'so2_mid', 'so2_max',\n",
    "       'no2_min', 'no2_mid', 'no2_max',\n",
    "       'temperature_min', 'temperature_mid', 'temperature_max',\n",
    "       'humidity_min', 'humidity_mid', 'humidity_max',\n",
    "       'pressure_min', 'pressure_mid', 'pressure_max', 'ws_min',\n",
    "       'ws_mid', 'ws_max', 'dew_min', 'dew_mid', 'dew_max']\n",
    "\n",
    "X1 = df_train[pos]\n",
    "\n",
    "# ペアワイズ交互作用特徴量\n",
    "X2 = preproc.PolynomialFeatures(include_bias=False).fit_transform(X1)"
   ]
  },
  {
   "cell_type": "code",
   "execution_count": 24,
   "id": "bd28f890-8fdc-4a87-a544-edd77080d530",
   "metadata": {},
   "outputs": [
    {
     "name": "stdout",
     "output_type": "stream",
     "text": [
      "生成後の列数: 27\n",
      "生成後の列数: 405\n"
     ]
    }
   ],
   "source": [
    "print(f'生成後の列数: {X1.shape[1]}')\n",
    "print(f'生成後の列数: {X2.shape[1]}')"
   ]
  },
  {
   "cell_type": "code",
   "execution_count": 25,
   "id": "706a33ec-b932-41eb-b28f-bc2ed642cee7",
   "metadata": {},
   "outputs": [
    {
     "ename": "KeyboardInterrupt",
     "evalue": "",
     "output_type": "error",
     "traceback": [
      "\u001b[1;31m---------------------------------------------------------------------------\u001b[0m",
      "\u001b[1;31mKeyboardInterrupt\u001b[0m                         Traceback (most recent call last)",
      "\u001b[1;32m<ipython-input-25-620adea04395>\u001b[0m in \u001b[0;36m<module>\u001b[1;34m\u001b[0m\n\u001b[0;32m      1\u001b[0m \u001b[0mtrain\u001b[0m\u001b[1;33m,\u001b[0m \u001b[0mtest\u001b[0m \u001b[1;33m=\u001b[0m \u001b[0mLoad_dataset\u001b[0m\u001b[1;33m(\u001b[0m\u001b[1;33m)\u001b[0m\u001b[1;33m\u001b[0m\u001b[1;33m\u001b[0m\u001b[0m\n\u001b[0;32m      2\u001b[0m \u001b[1;33m\u001b[0m\u001b[0m\n\u001b[1;32m----> 3\u001b[1;33m \u001b[0mdf_train\u001b[0m \u001b[1;33m=\u001b[0m \u001b[0mengin_2\u001b[0m\u001b[1;33m(\u001b[0m\u001b[0mtrain\u001b[0m\u001b[1;33m)\u001b[0m\u001b[1;33m\u001b[0m\u001b[1;33m\u001b[0m\u001b[0m\n\u001b[0m\u001b[0;32m      4\u001b[0m \u001b[0mdf_test\u001b[0m \u001b[1;33m=\u001b[0m \u001b[0mengin_2\u001b[0m\u001b[1;33m(\u001b[0m\u001b[0mtest\u001b[0m\u001b[1;33m)\u001b[0m\u001b[1;33m\u001b[0m\u001b[1;33m\u001b[0m\u001b[0m\n\u001b[0;32m      5\u001b[0m \u001b[1;33m\u001b[0m\u001b[0m\n",
      "\u001b[1;32m~\\OneDrive\\デスクトップ\\github\\Sony\\src\\Engineering\\dummy.py\u001b[0m in \u001b[0;36mengin_2\u001b[1;34m(df)\u001b[0m\n\u001b[0;32m     42\u001b[0m     \u001b[1;31m#     week.append(s.weekday())\u001b[0m\u001b[1;33m\u001b[0m\u001b[1;33m\u001b[0m\u001b[1;33m\u001b[0m\u001b[0m\n\u001b[0;32m     43\u001b[0m     \u001b[1;31m# df[\"weekday\"] = week\u001b[0m\u001b[1;33m\u001b[0m\u001b[1;33m\u001b[0m\u001b[1;33m\u001b[0m\u001b[0m\n\u001b[1;32m---> 44\u001b[1;33m     \u001b[1;31m# weekday = pd.get_dummies(df['weekday'], prefix=\"week\")\u001b[0m\u001b[1;33m\u001b[0m\u001b[1;33m\u001b[0m\u001b[1;33m\u001b[0m\u001b[0m\n\u001b[0m\u001b[0;32m     45\u001b[0m     \u001b[1;31m# df = pd.concat([df,weekday], axis=1)\u001b[0m\u001b[1;33m\u001b[0m\u001b[1;33m\u001b[0m\u001b[1;33m\u001b[0m\u001b[0m\n\u001b[0;32m     46\u001b[0m \u001b[1;33m\u001b[0m\u001b[0m\n",
      "\u001b[1;31mKeyboardInterrupt\u001b[0m: "
     ]
    }
   ],
   "source": [
    "train, test = Load_dataset()\n",
    "\n",
    "df_train = engin_2(train)\n",
    "df_test = engin_2(test)\n",
    "\n",
    "target = df_train[\"pm25_mid\"]\n",
    "\n",
    "df_train = df_train.drop([\"id\",\"pm25_mid\"], axis=1)\n",
    "df_test = df_test.drop([\"id\"], axis=1)\n",
    "\n",
    "publisher_train = train['City']\n",
    "unique_publisher = train['City'].unique()"
   ]
  },
  {
   "cell_type": "code",
   "execution_count": null,
   "id": "d2fbd763-d094-4044-b28a-ae55d6d1778a",
   "metadata": {},
   "outputs": [],
   "source": [
    "FOLD = 5\n",
    "NUM_ROUND = 10000\n",
    "VERBOSE_EVAL = -1\n",
    "\n",
    "params = {\n",
    "    'objective': 'regression',\n",
    "    'boosting_type': 'gbdt',\n",
    "    'verbose': -1,\n",
    "    'learning_rate':0.01\n",
    "}\n",
    "\n",
    "valid_scores = []\n",
    "models = []\n",
    "\n",
    "kf = KFold(n_splits=FOLD, shuffle=True, random_state=123)\n",
    "for fold, (tr_group_idx, va_group_idx) in enumerate(kf.split(unique_publisher)):\n",
    "    tr_groups, va_groups = unique_publisher[tr_group_idx], unique_publisher[va_group_idx]\n",
    "    \n",
    "    is_tr = publisher_train.isin(tr_groups)\n",
    "    is_va = publisher_train.isin(va_groups)\n",
    "    # ここでCityの情報を消したい\n",
    "    \n",
    "    X_train, X_valid = df_train[is_tr], df_train[is_va]\n",
    "    y_train, y_valid = target[is_tr], target[is_va]\n",
    "    \n",
    "    X_train = X_train.drop(\"City\" ,axis=1)\n",
    "    X_valid = X_valid.drop(\"City\" ,axis=1)\n",
    "    \n",
    "    lgb_train = lgb.Dataset(X_train, y_train)\n",
    "    lgb_eval = lgb.Dataset(X_valid, y_valid)\n",
    "\n",
    "    model = lgb.train(\n",
    "        params,\n",
    "        lgb_train,\n",
    "        valid_sets=lgb_eval,\n",
    "        num_boost_round=NUM_ROUND,\n",
    "        verbose_eval=VERBOSE_EVAL\n",
    "    )\n",
    "\n",
    "    y_valid_pred = model.predict(X_valid)\n",
    "    MSE = mean_squared_error(y_valid, y_valid_pred)\n",
    "    r2 = r2_score(y_valid, y_valid_pred)\n",
    "    MAE = mean_absolute_error(y_valid, y_valid_pred)\n",
    "    \n",
    "    print(f'fold {fold} MSE: {MSE} RMSE: {np.sqrt(MSE)} R^2: {r2} MAE: {MAE}')\n",
    "    valid_scores.append(np.sqrt(MSE))\n",
    "    models.append(model)\n",
    "\n",
    "cv_score = np.mean(valid_scores)\n",
    "print(f'CV score: {cv_score}')"
   ]
  },
  {
   "cell_type": "markdown",
   "id": "f5aa4a86-8e83-4ee9-ac45-63656c483554",
   "metadata": {},
   "source": [
    "# XGBOOST"
   ]
  },
  {
   "cell_type": "code",
   "execution_count": null,
   "id": "28ba4fd1-55c4-42e3-bbed-05fb2153b2b1",
   "metadata": {},
   "outputs": [],
   "source": [
    "FOLD = 10\n",
    "NUM_ROUND = 2000\n",
    "VERBOSE_EVAL = -1\n",
    "\n",
    "params = {\n",
    "    'objective': 'reg:squarederror',\n",
    "    'eval_metric': 'rmse',\n",
    "    'learning_rate':0.01,\n",
    "    'max_depth':8,\n",
    "}\n",
    "\n",
    "valid_scores = []\n",
    "models = []\n",
    "\n",
    "kf = KFold(n_splits=FOLD, shuffle=True, random_state=123)\n",
    "for fold, (tr_group_idx, va_group_idx) in enumerate(kf.split(unique_publisher)):\n",
    "    tr_groups, va_groups = unique_publisher[tr_group_idx], unique_publisher[va_group_idx]\n",
    "    \n",
    "    is_tr = publisher_train.isin(tr_groups)\n",
    "    is_va = publisher_train.isin(va_groups)\n",
    "    # ここでCityの情報を消したい\n",
    "    \n",
    "    X_train, X_valid = df_train[is_tr], df_train[is_va]\n",
    "    y_train, y_valid = target[is_tr], target[is_va]\n",
    "    \n",
    "    X_train = X_train.drop(\"City\" ,axis=1)\n",
    "    X_valid = X_valid.drop(\"City\" ,axis=1)\n",
    "    \n",
    "    dtrain = xgb.DMatrix(X_train, label=y_train)\n",
    "    dtest = xgb.DMatrix(X_valid, label=y_valid)\n",
    "    evals = [(dtrain, 'train'), (dtest, 'eval')]\n",
    "\n",
    "    model = xgb.train(params,\n",
    "                      dtrain,\n",
    "                      num_boost_round=NUM_ROUND,\n",
    "                      evals=evals,\n",
    "                      early_stopping_rounds=20,\n",
    "                      verbose_eval=200\n",
    "                      )\n",
    "\n",
    "    dm_valid = xgb.DMatrix(X_valid)\n",
    "    y_valid_pred = model.predict(dm_valid)\n",
    "\n",
    "    MSE = mean_squared_error(y_valid, y_valid_pred)\n",
    "    r2 = r2_score(y_valid, y_valid_pred)\n",
    "    MAE = mean_absolute_error(y_valid, y_valid_pred)\n",
    "    \n",
    "    print(f'fold {fold} MSE: {MSE} RMSE: {np.sqrt(MSE)} R^2: {r2} MAE: {MAE}')\n",
    "    valid_scores.append(np.sqrt(MSE))\n",
    "    models.append(model)\n",
    "\n",
    "cv_score = np.mean(valid_scores)\n",
    "print(f'CV score: {cv_score}')"
   ]
  },
  {
   "cell_type": "code",
   "execution_count": null,
   "id": "5d6fda62-8622-4817-bcee-2aa85ac43d0d",
   "metadata": {},
   "outputs": [],
   "source": []
  }
 ],
 "metadata": {
  "kernelspec": {
   "display_name": "Python 3",
   "language": "python",
   "name": "python3"
  },
  "language_info": {
   "codemirror_mode": {
    "name": "ipython",
    "version": 3
   },
   "file_extension": ".py",
   "mimetype": "text/x-python",
   "name": "python",
   "nbconvert_exporter": "python",
   "pygments_lexer": "ipython3",
   "version": "3.8.8"
  }
 },
 "nbformat": 4,
 "nbformat_minor": 5
}
