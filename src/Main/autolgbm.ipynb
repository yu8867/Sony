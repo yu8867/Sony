{
 "cells": [
  {
   "cell_type": "code",
   "execution_count": 6,
   "id": "1cf0f35f-b62f-49fc-9218-c095f744e7c7",
   "metadata": {},
   "outputs": [],
   "source": [
    "import pandas as pd\n",
    "from autolgbm import AutoLGBM\n",
    "import warnings\n",
    "warnings.simplefilter('ignore', category=UserWarning)\n",
    "\n",
    "import os\n",
    "import sys\n",
    "sys.path.append('C:\\\\Users\\\\yu886\\\\OneDrive\\\\デスクトップ\\\\github\\\\Sony\\\\src')"
   ]
  },
  {
   "cell_type": "code",
   "execution_count": 10,
   "id": "3c90db7e-ea1e-4c93-bfea-5e09ccc08a1d",
   "metadata": {},
   "outputs": [
    {
     "name": "stderr",
     "output_type": "stream",
     "text": [
      "2022-04-20 00:34:14.196 | INFO     | autolgbm.autolgbm:__post_init__:42 - Output directory: output_2\n"
     ]
    }
   ],
   "source": [
    "# required parameters:\n",
    "train_filename = \"C:/Users/yu886/OneDrive/デスクトップ/github/Sony/dataset/train.csv\"\n",
    "output = \"output_2\"\n",
    "\n",
    "# optional parameters\n",
    "test_filename = \"C:/Users/yu886/OneDrive/デスクトップ/github/Sony/dataset/test.csv\"\n",
    "task = None\n",
    "idx = \"id\"\n",
    "targets = [\"pm25_mid\"]\n",
    "features = None\n",
    "categorical_features = None\n",
    "use_gpu = False\n",
    "num_folds = 5\n",
    "seed = 123\n",
    "# num_trials = 1000\n",
    "# time_limit = 360\n",
    "num_trials = 10000\n",
    "time_limit = 7200\n",
    "fast = False\n",
    "\n",
    "# Now its time to train the model!\n",
    "algbm = AutoLGBM(\n",
    "    train_filename=train_filename,\n",
    "    output=output,\n",
    "    test_filename=test_filename,\n",
    "    task=task,\n",
    "    idx=idx,\n",
    "    targets=targets,\n",
    "    features=features,\n",
    "    categorical_features=categorical_features,\n",
    "    use_gpu=use_gpu,\n",
    "    num_folds=num_folds,\n",
    "    seed=seed,\n",
    "    num_trials=num_trials,\n",
    "    time_limit=time_limit,\n",
    "    fast=fast,\n",
    ")"
   ]
  },
  {
   "cell_type": "code",
   "execution_count": null,
   "id": "d4ecf168-9d54-46cb-9243-504865daa8a5",
   "metadata": {
    "tags": []
   },
   "outputs": [],
   "source": [
    "algbm.train()"
   ]
  },
  {
   "cell_type": "code",
   "execution_count": null,
   "id": "34499686-c842-46dd-9811-c90e949d9d9a",
   "metadata": {},
   "outputs": [],
   "source": [
    "pred = pd.read_csv(\"C:/Users/yu886/OneDrive/デスクトップ/github/Sony/src/output/test_predictions.csv\")\n",
    "pred.to_csv(\"submission/submission_autolgbm.csv\",index=False, header=False)"
   ]
  },
  {
   "cell_type": "code",
   "execution_count": 7,
   "id": "a4c690e1-033b-4e2b-8bbf-f36767ba68eb",
   "metadata": {},
   "outputs": [
    {
     "name": "stderr",
     "output_type": "stream",
     "text": [
      "2022-04-20 00:28:49.218 | INFO     | autolgbm.autolgbm:__post_init__:42 - Output directory: output_2\n"
     ]
    }
   ],
   "source": [
    "# required parameters:\n",
    "train_filename = \"C:/Users/yu886/OneDrive/デスクトップ/github/Sony/Process/train.csv\"\n",
    "output = \"output_2\"\n",
    "\n",
    "# optional parameters\n",
    "test_filename = \"C:/Users/yu886/OneDrive/デスクトップ/github/Sony/Process/test.csv\"\n",
    "task = None\n",
    "idx = \"id\"\n",
    "targets = [\"pm25_mid\"]\n",
    "features = None\n",
    "categorical_features = None\n",
    "use_gpu = False\n",
    "num_folds = 5\n",
    "seed = 123\n",
    "num_trials = 1000\n",
    "time_limit = 360\n",
    "fast = False\n",
    "\n",
    "# Now its time to train the model!\n",
    "algbm = AutoLGBM(\n",
    "    train_filename=train_filename,\n",
    "    output=output,\n",
    "    test_filename=test_filename,\n",
    "    task=task,\n",
    "    idx=idx,\n",
    "    targets=targets,\n",
    "    features=features,\n",
    "    categorical_features=categorical_features,\n",
    "    use_gpu=use_gpu,\n",
    "    num_folds=num_folds,\n",
    "    seed=seed,\n",
    "    num_trials=num_trials,\n",
    "    time_limit=time_limit,\n",
    "    fast=fast,\n",
    ")"
   ]
  },
  {
   "cell_type": "code",
   "execution_count": 8,
   "id": "c6df8724-eddb-41ce-ad58-bb5917720e49",
   "metadata": {
    "tags": []
   },
   "outputs": [
    {
     "name": "stderr",
     "output_type": "stream",
     "text": [
      "2022-04-20 00:28:52.156 | INFO     | autolgbm.autolgbm:_process_data:149 - Reading training data\n",
      "2022-04-20 00:28:54.118 | INFO     | autolgbm.utils:reduce_memory_usage:48 - Mem. usage decreased to 27.10 Mb (80.5% reduction)\n",
      "2022-04-20 00:28:54.136 | INFO     | autolgbm.autolgbm:_determine_problem_type:140 - Problem type: single_column_regression\n",
      "2022-04-20 00:28:54.715 | INFO     | autolgbm.utils:reduce_memory_usage:48 - Mem. usage decreased to 7.30 Mb (80.6% reduction)\n",
      "2022-04-20 00:28:54.715 | INFO     | autolgbm.autolgbm:_create_folds:58 - Creating folds\n",
      "2022-04-20 00:28:54.796 | INFO     | autolgbm.autolgbm:_process_data:195 - Found 0 categorical features.\n",
      "2022-04-20 00:28:55.323 | INFO     | autolgbm.autolgbm:_process_data:236 - Model config: train_filename='C:/Users/yu886/OneDrive/デスクトップ/github/Sony/Process/train.csv' test_filename='C:/Users/yu886/OneDrive/デスクトップ/github/Sony/Process/test.csv' idx='id' targets=['pm25_mid'] problem_type=<ProblemType.single_column_regression: 4> output='output_2' features=['Unnamed: 0', 'co_cnt', 'co_min', 'co_mid', 'co_max', 'o3_cnt', 'o3_min', 'o3_mid', 'o3_max', 'so2_cnt', 'so2_min', 'so2_mid', 'so2_max', 'no2_cnt', 'no2_min', 'no2_mid', 'no2_max', 'temperature_cnt', 'temperature_min', 'temperature_mid', 'temperature_max', 'humidity_cnt', 'humidity_min', 'humidity_mid', 'humidity_max', 'pressure_cnt', 'pressure_min', 'pressure_mid', 'pressure_max', 'ws_cnt', 'ws_min', 'ws_mid', 'ws_max', 'dew_cnt', 'dew_min', 'dew_mid', 'dew_max', 'month_1', 'month_2', 'month_3', 'month_4', 'month_5', 'month_6', 'month_7', 'month_8', 'month_9', 'month_10', 'month_11', 'month_12', 'year_2019', 'year_2020', 'year_2021', 'Australia', 'Belgium', 'BosniaandHerzegovina', 'Brazil', 'Canada', 'Chile', 'China', 'Croatia', 'France', 'Germany', 'Hungary', 'India', 'Iran', 'Israel', 'Italy', 'Japan', 'Mexico', 'Netherlands', 'Poland', 'Russia', 'Serbia', 'SouthAfrica', 'SouthKorea', 'Spain', 'Taiwan', 'Thailand', 'Turkey', 'UnitedKingdom', 'UnitedStates', 'Vietnam', 'co_std', 'o3_std', 'so2_std', 'no2_std', 'temperature_std', 'humidity_std', 'pressure_std', 'ws_std', 'dew_std'] num_folds=5 use_gpu=False seed=123 categorical_features=[] num_trials=1000 time_limit=360 fast=False\n",
      "2022-04-20 00:28:55.323 | INFO     | autolgbm.autolgbm:_process_data:237 - Saving model config\n",
      "2022-04-20 00:28:55.324 | INFO     | autolgbm.autolgbm:_process_data:241 - Saving encoders\n",
      "\u001b[32m[I 2022-04-20 00:28:55,472]\u001b[0m A new study created in RDB with name: autolgbm\u001b[0m\n"
     ]
    },
    {
     "name": "stdout",
     "output_type": "stream",
     "text": [
      "[LightGBM] [Warning] feature_fraction is set=0.4238881723363729, colsample_bytree=1.0 will be ignored. Current value: feature_fraction=0.4238881723363729\n",
      "[LightGBM] [Warning] lambda_l1 is set=0.14070937654244325, reg_alpha=0.0 will be ignored. Current value: lambda_l1=0.14070937654244325\n",
      "[LightGBM] [Warning] bagging_fraction is set=0.6038012759772324, subsample=1.0 will be ignored. Current value: bagging_fraction=0.6038012759772324\n",
      "[LightGBM] [Warning] lambda_l2 is set=0.0008436764828208627, reg_lambda=0.0 will be ignored. Current value: lambda_l2=0.0008436764828208627\n",
      "[LightGBM] [Warning] bagging_freq is set=5, subsample_freq=0 will be ignored. Current value: bagging_freq=5\n"
     ]
    },
    {
     "name": "stderr",
     "output_type": "stream",
     "text": [
      "\u001b[33m[W 2022-04-20 00:28:56,031]\u001b[0m Trial 0 failed because of the following error: LightGBMError('Do not support special JSON characters in feature name.')\u001b[0m\n",
      "Traceback (most recent call last):\n",
      "  File \"C:\\Users\\yu886\\AppData\\Roaming\\Python\\Python38\\site-packages\\optuna\\study\\_optimize.py\", line 213, in _run_trial\n",
      "    value_or_values = func(trial)\n",
      "  File \"C:\\Users\\yu886\\AppData\\Roaming\\Python\\Python38\\site-packages\\autolgbm\\utils.py\", line 171, in optimize\n",
      "    model.fit(\n",
      "  File \"C:\\Users\\yu886\\Anaconda3\\lib\\site-packages\\lightgbm\\sklearn.py\", line 895, in fit\n",
      "    super().fit(X, y, sample_weight=sample_weight, init_score=init_score,\n",
      "  File \"C:\\Users\\yu886\\Anaconda3\\lib\\site-packages\\lightgbm\\sklearn.py\", line 748, in fit\n",
      "    self._Booster = train(\n",
      "  File \"C:\\Users\\yu886\\Anaconda3\\lib\\site-packages\\lightgbm\\engine.py\", line 271, in train\n",
      "    booster = Booster(params=params, train_set=train_set)\n",
      "  File \"C:\\Users\\yu886\\Anaconda3\\lib\\site-packages\\lightgbm\\basic.py\", line 2605, in __init__\n",
      "    train_set.construct()\n",
      "  File \"C:\\Users\\yu886\\Anaconda3\\lib\\site-packages\\lightgbm\\basic.py\", line 1815, in construct\n",
      "    self._lazy_init(self.data, label=self.label,\n",
      "  File \"C:\\Users\\yu886\\Anaconda3\\lib\\site-packages\\lightgbm\\basic.py\", line 1573, in _lazy_init\n",
      "    return self.set_feature_name(feature_name)\n",
      "  File \"C:\\Users\\yu886\\Anaconda3\\lib\\site-packages\\lightgbm\\basic.py\", line 2142, in set_feature_name\n",
      "    _safe_call(_LIB.LGBM_DatasetSetFeatureNames(\n",
      "  File \"C:\\Users\\yu886\\Anaconda3\\lib\\site-packages\\lightgbm\\basic.py\", line 125, in _safe_call\n",
      "    raise LightGBMError(_LIB.LGBM_GetLastError().decode('utf-8'))\n",
      "lightgbm.basic.LightGBMError: Do not support special JSON characters in feature name.\n"
     ]
    },
    {
     "ename": "LightGBMError",
     "evalue": "Do not support special JSON characters in feature name.",
     "output_type": "error",
     "traceback": [
      "\u001b[1;31m---------------------------------------------------------------------------\u001b[0m",
      "\u001b[1;31mLightGBMError\u001b[0m                             Traceback (most recent call last)",
      "\u001b[1;32m<ipython-input-8-51f22b6ea044>\u001b[0m in \u001b[0;36m<module>\u001b[1;34m\u001b[0m\n\u001b[1;32m----> 1\u001b[1;33m \u001b[0malgbm\u001b[0m\u001b[1;33m.\u001b[0m\u001b[0mtrain\u001b[0m\u001b[1;33m(\u001b[0m\u001b[1;33m)\u001b[0m\u001b[1;33m\u001b[0m\u001b[1;33m\u001b[0m\u001b[0m\n\u001b[0m",
      "\u001b[1;32m~\\AppData\\Roaming\\Python\\Python38\\site-packages\\autolgbm\\autolgbm.py\u001b[0m in \u001b[0;36mtrain\u001b[1;34m(self)\u001b[0m\n\u001b[0;32m    245\u001b[0m     \u001b[1;32mdef\u001b[0m \u001b[0mtrain\u001b[0m\u001b[1;33m(\u001b[0m\u001b[0mself\u001b[0m\u001b[1;33m)\u001b[0m\u001b[1;33m:\u001b[0m\u001b[1;33m\u001b[0m\u001b[1;33m\u001b[0m\u001b[0m\n\u001b[0;32m    246\u001b[0m         \u001b[0mself\u001b[0m\u001b[1;33m.\u001b[0m\u001b[0m_process_data\u001b[0m\u001b[1;33m(\u001b[0m\u001b[1;33m)\u001b[0m\u001b[1;33m\u001b[0m\u001b[1;33m\u001b[0m\u001b[0m\n\u001b[1;32m--> 247\u001b[1;33m         \u001b[0mbest_params\u001b[0m \u001b[1;33m=\u001b[0m \u001b[0mtrain_model\u001b[0m\u001b[1;33m(\u001b[0m\u001b[0mself\u001b[0m\u001b[1;33m.\u001b[0m\u001b[0mmodel_config\u001b[0m\u001b[1;33m)\u001b[0m\u001b[1;33m\u001b[0m\u001b[1;33m\u001b[0m\u001b[0m\n\u001b[0m\u001b[0;32m    248\u001b[0m         \u001b[0mlogger\u001b[0m\u001b[1;33m.\u001b[0m\u001b[0minfo\u001b[0m\u001b[1;33m(\u001b[0m\u001b[1;34m\"Training complete\"\u001b[0m\u001b[1;33m)\u001b[0m\u001b[1;33m\u001b[0m\u001b[1;33m\u001b[0m\u001b[0m\n\u001b[0;32m    249\u001b[0m         \u001b[0mself\u001b[0m\u001b[1;33m.\u001b[0m\u001b[0mpredict\u001b[0m\u001b[1;33m(\u001b[0m\u001b[0mbest_params\u001b[0m\u001b[1;33m)\u001b[0m\u001b[1;33m\u001b[0m\u001b[1;33m\u001b[0m\u001b[0m\n",
      "\u001b[1;32m~\\AppData\\Roaming\\Python\\Python38\\site-packages\\autolgbm\\utils.py\u001b[0m in \u001b[0;36mtrain_model\u001b[1;34m(model_config)\u001b[0m\n\u001b[0;32m    210\u001b[0m         \u001b[0mload_if_exists\u001b[0m\u001b[1;33m=\u001b[0m\u001b[1;32mTrue\u001b[0m\u001b[1;33m,\u001b[0m\u001b[1;33m\u001b[0m\u001b[1;33m\u001b[0m\u001b[0m\n\u001b[0;32m    211\u001b[0m     )\n\u001b[1;32m--> 212\u001b[1;33m     \u001b[0mstudy\u001b[0m\u001b[1;33m.\u001b[0m\u001b[0moptimize\u001b[0m\u001b[1;33m(\u001b[0m\u001b[0moptimize_func\u001b[0m\u001b[1;33m,\u001b[0m \u001b[0mn_trials\u001b[0m\u001b[1;33m=\u001b[0m\u001b[0mmodel_config\u001b[0m\u001b[1;33m.\u001b[0m\u001b[0mnum_trials\u001b[0m\u001b[1;33m,\u001b[0m \u001b[0mtimeout\u001b[0m\u001b[1;33m=\u001b[0m\u001b[0mmodel_config\u001b[0m\u001b[1;33m.\u001b[0m\u001b[0mtime_limit\u001b[0m\u001b[1;33m)\u001b[0m\u001b[1;33m\u001b[0m\u001b[1;33m\u001b[0m\u001b[0m\n\u001b[0m\u001b[0;32m    213\u001b[0m     \u001b[1;32mreturn\u001b[0m \u001b[0mstudy\u001b[0m\u001b[1;33m.\u001b[0m\u001b[0mbest_params\u001b[0m\u001b[1;33m\u001b[0m\u001b[1;33m\u001b[0m\u001b[0m\n\u001b[0;32m    214\u001b[0m \u001b[1;33m\u001b[0m\u001b[0m\n",
      "\u001b[1;32m~\\AppData\\Roaming\\Python\\Python38\\site-packages\\optuna\\study\\study.py\u001b[0m in \u001b[0;36moptimize\u001b[1;34m(self, func, n_trials, timeout, n_jobs, catch, callbacks, gc_after_trial, show_progress_bar)\u001b[0m\n\u001b[0;32m    398\u001b[0m             )\n\u001b[0;32m    399\u001b[0m \u001b[1;33m\u001b[0m\u001b[0m\n\u001b[1;32m--> 400\u001b[1;33m         _optimize(\n\u001b[0m\u001b[0;32m    401\u001b[0m             \u001b[0mstudy\u001b[0m\u001b[1;33m=\u001b[0m\u001b[0mself\u001b[0m\u001b[1;33m,\u001b[0m\u001b[1;33m\u001b[0m\u001b[1;33m\u001b[0m\u001b[0m\n\u001b[0;32m    402\u001b[0m             \u001b[0mfunc\u001b[0m\u001b[1;33m=\u001b[0m\u001b[0mfunc\u001b[0m\u001b[1;33m,\u001b[0m\u001b[1;33m\u001b[0m\u001b[1;33m\u001b[0m\u001b[0m\n",
      "\u001b[1;32m~\\AppData\\Roaming\\Python\\Python38\\site-packages\\optuna\\study\\_optimize.py\u001b[0m in \u001b[0;36m_optimize\u001b[1;34m(study, func, n_trials, timeout, n_jobs, catch, callbacks, gc_after_trial, show_progress_bar)\u001b[0m\n\u001b[0;32m     64\u001b[0m     \u001b[1;32mtry\u001b[0m\u001b[1;33m:\u001b[0m\u001b[1;33m\u001b[0m\u001b[1;33m\u001b[0m\u001b[0m\n\u001b[0;32m     65\u001b[0m         \u001b[1;32mif\u001b[0m \u001b[0mn_jobs\u001b[0m \u001b[1;33m==\u001b[0m \u001b[1;36m1\u001b[0m\u001b[1;33m:\u001b[0m\u001b[1;33m\u001b[0m\u001b[1;33m\u001b[0m\u001b[0m\n\u001b[1;32m---> 66\u001b[1;33m             _optimize_sequential(\n\u001b[0m\u001b[0;32m     67\u001b[0m                 \u001b[0mstudy\u001b[0m\u001b[1;33m,\u001b[0m\u001b[1;33m\u001b[0m\u001b[1;33m\u001b[0m\u001b[0m\n\u001b[0;32m     68\u001b[0m                 \u001b[0mfunc\u001b[0m\u001b[1;33m,\u001b[0m\u001b[1;33m\u001b[0m\u001b[1;33m\u001b[0m\u001b[0m\n",
      "\u001b[1;32m~\\AppData\\Roaming\\Python\\Python38\\site-packages\\optuna\\study\\_optimize.py\u001b[0m in \u001b[0;36m_optimize_sequential\u001b[1;34m(study, func, n_trials, timeout, catch, callbacks, gc_after_trial, reseed_sampler_rng, time_start, progress_bar)\u001b[0m\n\u001b[0;32m    161\u001b[0m \u001b[1;33m\u001b[0m\u001b[0m\n\u001b[0;32m    162\u001b[0m         \u001b[1;32mtry\u001b[0m\u001b[1;33m:\u001b[0m\u001b[1;33m\u001b[0m\u001b[1;33m\u001b[0m\u001b[0m\n\u001b[1;32m--> 163\u001b[1;33m             \u001b[0mtrial\u001b[0m \u001b[1;33m=\u001b[0m \u001b[0m_run_trial\u001b[0m\u001b[1;33m(\u001b[0m\u001b[0mstudy\u001b[0m\u001b[1;33m,\u001b[0m \u001b[0mfunc\u001b[0m\u001b[1;33m,\u001b[0m \u001b[0mcatch\u001b[0m\u001b[1;33m)\u001b[0m\u001b[1;33m\u001b[0m\u001b[1;33m\u001b[0m\u001b[0m\n\u001b[0m\u001b[0;32m    164\u001b[0m         \u001b[1;32mexcept\u001b[0m \u001b[0mException\u001b[0m\u001b[1;33m:\u001b[0m\u001b[1;33m\u001b[0m\u001b[1;33m\u001b[0m\u001b[0m\n\u001b[0;32m    165\u001b[0m             \u001b[1;32mraise\u001b[0m\u001b[1;33m\u001b[0m\u001b[1;33m\u001b[0m\u001b[0m\n",
      "\u001b[1;32m~\\AppData\\Roaming\\Python\\Python38\\site-packages\\optuna\\study\\_optimize.py\u001b[0m in \u001b[0;36m_run_trial\u001b[1;34m(study, func, catch)\u001b[0m\n\u001b[0;32m    262\u001b[0m \u001b[1;33m\u001b[0m\u001b[0m\n\u001b[0;32m    263\u001b[0m     \u001b[1;32mif\u001b[0m \u001b[0mstate\u001b[0m \u001b[1;33m==\u001b[0m \u001b[0mTrialState\u001b[0m\u001b[1;33m.\u001b[0m\u001b[0mFAIL\u001b[0m \u001b[1;32mand\u001b[0m \u001b[0mfunc_err\u001b[0m \u001b[1;32mis\u001b[0m \u001b[1;32mnot\u001b[0m \u001b[1;32mNone\u001b[0m \u001b[1;32mand\u001b[0m \u001b[1;32mnot\u001b[0m \u001b[0misinstance\u001b[0m\u001b[1;33m(\u001b[0m\u001b[0mfunc_err\u001b[0m\u001b[1;33m,\u001b[0m \u001b[0mcatch\u001b[0m\u001b[1;33m)\u001b[0m\u001b[1;33m:\u001b[0m\u001b[1;33m\u001b[0m\u001b[1;33m\u001b[0m\u001b[0m\n\u001b[1;32m--> 264\u001b[1;33m         \u001b[1;32mraise\u001b[0m \u001b[0mfunc_err\u001b[0m\u001b[1;33m\u001b[0m\u001b[1;33m\u001b[0m\u001b[0m\n\u001b[0m\u001b[0;32m    265\u001b[0m     \u001b[1;32mreturn\u001b[0m \u001b[0mtrial\u001b[0m\u001b[1;33m\u001b[0m\u001b[1;33m\u001b[0m\u001b[0m\n\u001b[0;32m    266\u001b[0m \u001b[1;33m\u001b[0m\u001b[0m\n",
      "\u001b[1;32m~\\AppData\\Roaming\\Python\\Python38\\site-packages\\optuna\\study\\_optimize.py\u001b[0m in \u001b[0;36m_run_trial\u001b[1;34m(study, func, catch)\u001b[0m\n\u001b[0;32m    211\u001b[0m \u001b[1;33m\u001b[0m\u001b[0m\n\u001b[0;32m    212\u001b[0m     \u001b[1;32mtry\u001b[0m\u001b[1;33m:\u001b[0m\u001b[1;33m\u001b[0m\u001b[1;33m\u001b[0m\u001b[0m\n\u001b[1;32m--> 213\u001b[1;33m         \u001b[0mvalue_or_values\u001b[0m \u001b[1;33m=\u001b[0m \u001b[0mfunc\u001b[0m\u001b[1;33m(\u001b[0m\u001b[0mtrial\u001b[0m\u001b[1;33m)\u001b[0m\u001b[1;33m\u001b[0m\u001b[1;33m\u001b[0m\u001b[0m\n\u001b[0m\u001b[0;32m    214\u001b[0m     \u001b[1;32mexcept\u001b[0m \u001b[0mexceptions\u001b[0m\u001b[1;33m.\u001b[0m\u001b[0mTrialPruned\u001b[0m \u001b[1;32mas\u001b[0m \u001b[0me\u001b[0m\u001b[1;33m:\u001b[0m\u001b[1;33m\u001b[0m\u001b[1;33m\u001b[0m\u001b[0m\n\u001b[0;32m    215\u001b[0m         \u001b[1;31m# TODO(mamu): Handle multi-objective cases.\u001b[0m\u001b[1;33m\u001b[0m\u001b[1;33m\u001b[0m\u001b[1;33m\u001b[0m\u001b[0m\n",
      "\u001b[1;32m~\\AppData\\Roaming\\Python\\Python38\\site-packages\\autolgbm\\utils.py\u001b[0m in \u001b[0;36moptimize\u001b[1;34m(trial, lgbm_model, use_predict_proba, metric, model_config)\u001b[0m\n\u001b[0;32m    169\u001b[0m \u001b[1;33m\u001b[0m\u001b[0m\n\u001b[0;32m    170\u001b[0m         \u001b[1;32melse\u001b[0m\u001b[1;33m:\u001b[0m\u001b[1;33m\u001b[0m\u001b[1;33m\u001b[0m\u001b[0m\n\u001b[1;32m--> 171\u001b[1;33m             model.fit(\n\u001b[0m\u001b[0;32m    172\u001b[0m                 \u001b[0mxtrain\u001b[0m\u001b[1;33m,\u001b[0m\u001b[1;33m\u001b[0m\u001b[1;33m\u001b[0m\u001b[0m\n\u001b[0;32m    173\u001b[0m                 \u001b[0mytrain\u001b[0m\u001b[1;33m,\u001b[0m\u001b[1;33m\u001b[0m\u001b[1;33m\u001b[0m\u001b[0m\n",
      "\u001b[1;32m~\\Anaconda3\\lib\\site-packages\\lightgbm\\sklearn.py\u001b[0m in \u001b[0;36mfit\u001b[1;34m(self, X, y, sample_weight, init_score, eval_set, eval_names, eval_sample_weight, eval_init_score, eval_metric, early_stopping_rounds, verbose, feature_name, categorical_feature, callbacks, init_model)\u001b[0m\n\u001b[0;32m    893\u001b[0m             callbacks=None, init_model=None):\n\u001b[0;32m    894\u001b[0m         \u001b[1;34m\"\"\"Docstring is inherited from the LGBMModel.\"\"\"\u001b[0m\u001b[1;33m\u001b[0m\u001b[1;33m\u001b[0m\u001b[0m\n\u001b[1;32m--> 895\u001b[1;33m         super().fit(X, y, sample_weight=sample_weight, init_score=init_score,\n\u001b[0m\u001b[0;32m    896\u001b[0m                     \u001b[0meval_set\u001b[0m\u001b[1;33m=\u001b[0m\u001b[0meval_set\u001b[0m\u001b[1;33m,\u001b[0m \u001b[0meval_names\u001b[0m\u001b[1;33m=\u001b[0m\u001b[0meval_names\u001b[0m\u001b[1;33m,\u001b[0m \u001b[0meval_sample_weight\u001b[0m\u001b[1;33m=\u001b[0m\u001b[0meval_sample_weight\u001b[0m\u001b[1;33m,\u001b[0m\u001b[1;33m\u001b[0m\u001b[1;33m\u001b[0m\u001b[0m\n\u001b[0;32m    897\u001b[0m                     \u001b[0meval_init_score\u001b[0m\u001b[1;33m=\u001b[0m\u001b[0meval_init_score\u001b[0m\u001b[1;33m,\u001b[0m \u001b[0meval_metric\u001b[0m\u001b[1;33m=\u001b[0m\u001b[0meval_metric\u001b[0m\u001b[1;33m,\u001b[0m\u001b[1;33m\u001b[0m\u001b[1;33m\u001b[0m\u001b[0m\n",
      "\u001b[1;32m~\\Anaconda3\\lib\\site-packages\\lightgbm\\sklearn.py\u001b[0m in \u001b[0;36mfit\u001b[1;34m(self, X, y, sample_weight, init_score, group, eval_set, eval_names, eval_sample_weight, eval_class_weight, eval_init_score, eval_group, eval_metric, early_stopping_rounds, verbose, feature_name, categorical_feature, callbacks, init_model)\u001b[0m\n\u001b[0;32m    746\u001b[0m         \u001b[0mcallbacks\u001b[0m\u001b[1;33m.\u001b[0m\u001b[0mappend\u001b[0m\u001b[1;33m(\u001b[0m\u001b[0mrecord_evaluation\u001b[0m\u001b[1;33m(\u001b[0m\u001b[0mevals_result\u001b[0m\u001b[1;33m)\u001b[0m\u001b[1;33m)\u001b[0m\u001b[1;33m\u001b[0m\u001b[1;33m\u001b[0m\u001b[0m\n\u001b[0;32m    747\u001b[0m \u001b[1;33m\u001b[0m\u001b[0m\n\u001b[1;32m--> 748\u001b[1;33m         self._Booster = train(\n\u001b[0m\u001b[0;32m    749\u001b[0m             \u001b[0mparams\u001b[0m\u001b[1;33m=\u001b[0m\u001b[0mparams\u001b[0m\u001b[1;33m,\u001b[0m\u001b[1;33m\u001b[0m\u001b[1;33m\u001b[0m\u001b[0m\n\u001b[0;32m    750\u001b[0m             \u001b[0mtrain_set\u001b[0m\u001b[1;33m=\u001b[0m\u001b[0mtrain_set\u001b[0m\u001b[1;33m,\u001b[0m\u001b[1;33m\u001b[0m\u001b[1;33m\u001b[0m\u001b[0m\n",
      "\u001b[1;32m~\\Anaconda3\\lib\\site-packages\\lightgbm\\engine.py\u001b[0m in \u001b[0;36mtrain\u001b[1;34m(params, train_set, num_boost_round, valid_sets, valid_names, fobj, feval, init_model, feature_name, categorical_feature, early_stopping_rounds, evals_result, verbose_eval, learning_rates, keep_training_booster, callbacks)\u001b[0m\n\u001b[0;32m    269\u001b[0m     \u001b[1;31m# construct booster\u001b[0m\u001b[1;33m\u001b[0m\u001b[1;33m\u001b[0m\u001b[1;33m\u001b[0m\u001b[0m\n\u001b[0;32m    270\u001b[0m     \u001b[1;32mtry\u001b[0m\u001b[1;33m:\u001b[0m\u001b[1;33m\u001b[0m\u001b[1;33m\u001b[0m\u001b[0m\n\u001b[1;32m--> 271\u001b[1;33m         \u001b[0mbooster\u001b[0m \u001b[1;33m=\u001b[0m \u001b[0mBooster\u001b[0m\u001b[1;33m(\u001b[0m\u001b[0mparams\u001b[0m\u001b[1;33m=\u001b[0m\u001b[0mparams\u001b[0m\u001b[1;33m,\u001b[0m \u001b[0mtrain_set\u001b[0m\u001b[1;33m=\u001b[0m\u001b[0mtrain_set\u001b[0m\u001b[1;33m)\u001b[0m\u001b[1;33m\u001b[0m\u001b[1;33m\u001b[0m\u001b[0m\n\u001b[0m\u001b[0;32m    272\u001b[0m         \u001b[1;32mif\u001b[0m \u001b[0mis_valid_contain_train\u001b[0m\u001b[1;33m:\u001b[0m\u001b[1;33m\u001b[0m\u001b[1;33m\u001b[0m\u001b[0m\n\u001b[0;32m    273\u001b[0m             \u001b[0mbooster\u001b[0m\u001b[1;33m.\u001b[0m\u001b[0mset_train_data_name\u001b[0m\u001b[1;33m(\u001b[0m\u001b[0mtrain_data_name\u001b[0m\u001b[1;33m)\u001b[0m\u001b[1;33m\u001b[0m\u001b[1;33m\u001b[0m\u001b[0m\n",
      "\u001b[1;32m~\\Anaconda3\\lib\\site-packages\\lightgbm\\basic.py\u001b[0m in \u001b[0;36m__init__\u001b[1;34m(self, params, train_set, model_file, model_str, silent)\u001b[0m\n\u001b[0;32m   2603\u001b[0m                 )\n\u001b[0;32m   2604\u001b[0m             \u001b[1;31m# construct booster object\u001b[0m\u001b[1;33m\u001b[0m\u001b[1;33m\u001b[0m\u001b[1;33m\u001b[0m\u001b[0m\n\u001b[1;32m-> 2605\u001b[1;33m             \u001b[0mtrain_set\u001b[0m\u001b[1;33m.\u001b[0m\u001b[0mconstruct\u001b[0m\u001b[1;33m(\u001b[0m\u001b[1;33m)\u001b[0m\u001b[1;33m\u001b[0m\u001b[1;33m\u001b[0m\u001b[0m\n\u001b[0m\u001b[0;32m   2606\u001b[0m             \u001b[1;31m# copy the parameters from train_set\u001b[0m\u001b[1;33m\u001b[0m\u001b[1;33m\u001b[0m\u001b[1;33m\u001b[0m\u001b[0m\n\u001b[0;32m   2607\u001b[0m             \u001b[0mparams\u001b[0m\u001b[1;33m.\u001b[0m\u001b[0mupdate\u001b[0m\u001b[1;33m(\u001b[0m\u001b[0mtrain_set\u001b[0m\u001b[1;33m.\u001b[0m\u001b[0mget_params\u001b[0m\u001b[1;33m(\u001b[0m\u001b[1;33m)\u001b[0m\u001b[1;33m)\u001b[0m\u001b[1;33m\u001b[0m\u001b[1;33m\u001b[0m\u001b[0m\n",
      "\u001b[1;32m~\\Anaconda3\\lib\\site-packages\\lightgbm\\basic.py\u001b[0m in \u001b[0;36mconstruct\u001b[1;34m(self)\u001b[0m\n\u001b[0;32m   1813\u001b[0m             \u001b[1;32melse\u001b[0m\u001b[1;33m:\u001b[0m\u001b[1;33m\u001b[0m\u001b[1;33m\u001b[0m\u001b[0m\n\u001b[0;32m   1814\u001b[0m                 \u001b[1;31m# create train\u001b[0m\u001b[1;33m\u001b[0m\u001b[1;33m\u001b[0m\u001b[1;33m\u001b[0m\u001b[0m\n\u001b[1;32m-> 1815\u001b[1;33m                 self._lazy_init(self.data, label=self.label,\n\u001b[0m\u001b[0;32m   1816\u001b[0m                                 \u001b[0mweight\u001b[0m\u001b[1;33m=\u001b[0m\u001b[0mself\u001b[0m\u001b[1;33m.\u001b[0m\u001b[0mweight\u001b[0m\u001b[1;33m,\u001b[0m \u001b[0mgroup\u001b[0m\u001b[1;33m=\u001b[0m\u001b[0mself\u001b[0m\u001b[1;33m.\u001b[0m\u001b[0mgroup\u001b[0m\u001b[1;33m,\u001b[0m\u001b[1;33m\u001b[0m\u001b[1;33m\u001b[0m\u001b[0m\n\u001b[0;32m   1817\u001b[0m                                 \u001b[0minit_score\u001b[0m\u001b[1;33m=\u001b[0m\u001b[0mself\u001b[0m\u001b[1;33m.\u001b[0m\u001b[0minit_score\u001b[0m\u001b[1;33m,\u001b[0m \u001b[0mpredictor\u001b[0m\u001b[1;33m=\u001b[0m\u001b[0mself\u001b[0m\u001b[1;33m.\u001b[0m\u001b[0m_predictor\u001b[0m\u001b[1;33m,\u001b[0m\u001b[1;33m\u001b[0m\u001b[1;33m\u001b[0m\u001b[0m\n",
      "\u001b[1;32m~\\Anaconda3\\lib\\site-packages\\lightgbm\\basic.py\u001b[0m in \u001b[0;36m_lazy_init\u001b[1;34m(self, data, label, reference, weight, group, init_score, predictor, silent, feature_name, categorical_feature, params)\u001b[0m\n\u001b[0;32m   1571\u001b[0m             \u001b[1;32mraise\u001b[0m \u001b[0mTypeError\u001b[0m\u001b[1;33m(\u001b[0m\u001b[1;34mf'Wrong predictor type {type(predictor).__name__}'\u001b[0m\u001b[1;33m)\u001b[0m\u001b[1;33m\u001b[0m\u001b[1;33m\u001b[0m\u001b[0m\n\u001b[0;32m   1572\u001b[0m         \u001b[1;31m# set feature names\u001b[0m\u001b[1;33m\u001b[0m\u001b[1;33m\u001b[0m\u001b[1;33m\u001b[0m\u001b[0m\n\u001b[1;32m-> 1573\u001b[1;33m         \u001b[1;32mreturn\u001b[0m \u001b[0mself\u001b[0m\u001b[1;33m.\u001b[0m\u001b[0mset_feature_name\u001b[0m\u001b[1;33m(\u001b[0m\u001b[0mfeature_name\u001b[0m\u001b[1;33m)\u001b[0m\u001b[1;33m\u001b[0m\u001b[1;33m\u001b[0m\u001b[0m\n\u001b[0m\u001b[0;32m   1574\u001b[0m \u001b[1;33m\u001b[0m\u001b[0m\n\u001b[0;32m   1575\u001b[0m     \u001b[1;33m@\u001b[0m\u001b[0mstaticmethod\u001b[0m\u001b[1;33m\u001b[0m\u001b[1;33m\u001b[0m\u001b[0m\n",
      "\u001b[1;32m~\\Anaconda3\\lib\\site-packages\\lightgbm\\basic.py\u001b[0m in \u001b[0;36mset_feature_name\u001b[1;34m(self, feature_name)\u001b[0m\n\u001b[0;32m   2140\u001b[0m                 \u001b[1;32mraise\u001b[0m \u001b[0mValueError\u001b[0m\u001b[1;33m(\u001b[0m\u001b[1;34mf\"Length of feature_name({len(feature_name)}) and num_feature({self.num_feature()}) don't match\"\u001b[0m\u001b[1;33m)\u001b[0m\u001b[1;33m\u001b[0m\u001b[1;33m\u001b[0m\u001b[0m\n\u001b[0;32m   2141\u001b[0m             \u001b[0mc_feature_name\u001b[0m \u001b[1;33m=\u001b[0m \u001b[1;33m[\u001b[0m\u001b[0mc_str\u001b[0m\u001b[1;33m(\u001b[0m\u001b[0mname\u001b[0m\u001b[1;33m)\u001b[0m \u001b[1;32mfor\u001b[0m \u001b[0mname\u001b[0m \u001b[1;32min\u001b[0m \u001b[0mfeature_name\u001b[0m\u001b[1;33m]\u001b[0m\u001b[1;33m\u001b[0m\u001b[1;33m\u001b[0m\u001b[0m\n\u001b[1;32m-> 2142\u001b[1;33m             _safe_call(_LIB.LGBM_DatasetSetFeatureNames(\n\u001b[0m\u001b[0;32m   2143\u001b[0m                 \u001b[0mself\u001b[0m\u001b[1;33m.\u001b[0m\u001b[0mhandle\u001b[0m\u001b[1;33m,\u001b[0m\u001b[1;33m\u001b[0m\u001b[1;33m\u001b[0m\u001b[0m\n\u001b[0;32m   2144\u001b[0m                 \u001b[0mc_array\u001b[0m\u001b[1;33m(\u001b[0m\u001b[0mctypes\u001b[0m\u001b[1;33m.\u001b[0m\u001b[0mc_char_p\u001b[0m\u001b[1;33m,\u001b[0m \u001b[0mc_feature_name\u001b[0m\u001b[1;33m)\u001b[0m\u001b[1;33m,\u001b[0m\u001b[1;33m\u001b[0m\u001b[1;33m\u001b[0m\u001b[0m\n",
      "\u001b[1;32m~\\Anaconda3\\lib\\site-packages\\lightgbm\\basic.py\u001b[0m in \u001b[0;36m_safe_call\u001b[1;34m(ret)\u001b[0m\n\u001b[0;32m    123\u001b[0m     \"\"\"\n\u001b[0;32m    124\u001b[0m     \u001b[1;32mif\u001b[0m \u001b[0mret\u001b[0m \u001b[1;33m!=\u001b[0m \u001b[1;36m0\u001b[0m\u001b[1;33m:\u001b[0m\u001b[1;33m\u001b[0m\u001b[1;33m\u001b[0m\u001b[0m\n\u001b[1;32m--> 125\u001b[1;33m         \u001b[1;32mraise\u001b[0m \u001b[0mLightGBMError\u001b[0m\u001b[1;33m(\u001b[0m\u001b[0m_LIB\u001b[0m\u001b[1;33m.\u001b[0m\u001b[0mLGBM_GetLastError\u001b[0m\u001b[1;33m(\u001b[0m\u001b[1;33m)\u001b[0m\u001b[1;33m.\u001b[0m\u001b[0mdecode\u001b[0m\u001b[1;33m(\u001b[0m\u001b[1;34m'utf-8'\u001b[0m\u001b[1;33m)\u001b[0m\u001b[1;33m)\u001b[0m\u001b[1;33m\u001b[0m\u001b[1;33m\u001b[0m\u001b[0m\n\u001b[0m\u001b[0;32m    126\u001b[0m \u001b[1;33m\u001b[0m\u001b[0m\n\u001b[0;32m    127\u001b[0m \u001b[1;33m\u001b[0m\u001b[0m\n",
      "\u001b[1;31mLightGBMError\u001b[0m: Do not support special JSON characters in feature name."
     ]
    }
   ],
   "source": [
    "algbm.train()"
   ]
  },
  {
   "cell_type": "code",
   "execution_count": 1,
   "id": "8d42f701-6e4b-4cb7-b9e6-3077579aa094",
   "metadata": {},
   "outputs": [],
   "source": [
    "from sklearn.metrics import mean_absolute_error\n",
    "from sklearn.model_selection import ShuffleSplit\n",
    "import lightgbm as lgb\n",
    "import numpy as np\n",
    "import pandas as pd\n",
    "from Processing.load_dataset import Load_dataset\n",
    "\n",
    "from Engineering.dummy import engin\n",
    "from Valid.validation import rmse\n",
    "\n",
    "from sklearn.metrics import mean_squared_error\n",
    "from sklearn.metrics import r2_score\n",
    "from sklearn.metrics import mean_absolute_error\n",
    "\n",
    "import warnings\n",
    "warnings.simplefilter('ignore', category=UserWarning)\n",
    "import matplotlib.pyplot as plt"
   ]
  },
  {
   "cell_type": "code",
   "execution_count": 2,
   "id": "431b9b64-d96d-471e-8753-73a9bfc4830b",
   "metadata": {},
   "outputs": [
    {
     "data": {
      "text/plain": [
       "Index(['id', 'co_cnt', 'co_min', 'co_mid', 'co_max', 'o3_cnt', 'o3_min',\n",
       "       'o3_mid', 'o3_max', 'so2_cnt', 'so2_min', 'so2_mid', 'so2_max',\n",
       "       'no2_cnt', 'no2_min', 'no2_mid', 'no2_max', 'temperature_cnt',\n",
       "       'temperature_min', 'temperature_mid', 'temperature_max', 'humidity_cnt',\n",
       "       'humidity_min', 'humidity_mid', 'humidity_max', 'pressure_cnt',\n",
       "       'pressure_min', 'pressure_mid', 'pressure_max', 'ws_cnt', 'ws_min',\n",
       "       'ws_mid', 'ws_max', 'dew_cnt', 'dew_min', 'dew_mid', 'dew_max',\n",
       "       'pm25_mid', 'month_1', 'month_2', 'month_3', 'month_4', 'month_5',\n",
       "       'month_6', 'month_7', 'month_8', 'month_9', 'month_10', 'month_11',\n",
       "       'month_12', 'year_2019', 'year_2020', 'year_2021', 'Australia',\n",
       "       'Belgium', 'Bosnia and Herzegovina', 'Brazil', 'Canada', 'Chile',\n",
       "       'China', 'Croatia', 'France', 'Germany', 'Hungary', 'India', 'Iran',\n",
       "       'Israel', 'Italy', 'Japan', 'Mexico', 'Netherlands', 'Poland', 'Russia',\n",
       "       'Serbia', 'South Africa', 'South Korea', 'Spain', 'Taiwan', 'Thailand',\n",
       "       'Turkey', 'United Kingdom', 'United States', 'Vietnam', 'co_std',\n",
       "       'o3_std', 'so2_std', 'no2_std', 'temperature_std', 'humidity_std',\n",
       "       'pressure_std', 'ws_std', 'dew_std'],\n",
       "      dtype='object')"
      ]
     },
     "execution_count": 2,
     "metadata": {},
     "output_type": "execute_result"
    }
   ],
   "source": [
    "train, test = Load_dataset()\n",
    "train_df = engin(train)\n",
    "test_df = engin(test)\n",
    "train_df.columns"
   ]
  },
  {
   "cell_type": "code",
   "execution_count": 3,
   "id": "15c12d5a-9d9d-4987-af1d-5f650b755a89",
   "metadata": {},
   "outputs": [
    {
     "data": {
      "text/plain": [
       "Index(['id', 'co_cnt', 'co_min', 'co_mid', 'co_max', 'o3_cnt', 'o3_min',\n",
       "       'o3_mid', 'o3_max', 'so2_cnt', 'so2_min', 'so2_mid', 'so2_max',\n",
       "       'no2_cnt', 'no2_min', 'no2_mid', 'no2_max', 'temperature_cnt',\n",
       "       'temperature_min', 'temperature_mid', 'temperature_max', 'humidity_cnt',\n",
       "       'humidity_min', 'humidity_mid', 'humidity_max', 'pressure_cnt',\n",
       "       'pressure_min', 'pressure_mid', 'pressure_max', 'ws_cnt', 'ws_min',\n",
       "       'ws_mid', 'ws_max', 'dew_cnt', 'dew_min', 'dew_mid', 'dew_max',\n",
       "       'month_1', 'month_2', 'month_3', 'month_4', 'month_5', 'month_6',\n",
       "       'month_7', 'month_8', 'month_9', 'month_10', 'month_11', 'month_12',\n",
       "       'year_2019', 'year_2020', 'year_2021', 'Australia', 'Belgium',\n",
       "       'BosniaandHerzegovina', 'Brazil', 'Canada', 'Chile', 'China', 'Croatia',\n",
       "       'France', 'Germany', 'Hungary', 'India', 'Iran', 'Israel', 'Italy',\n",
       "       'Japan', 'Mexico', 'Netherlands', 'Poland', 'Russia', 'Serbia',\n",
       "       'SouthAfrica', 'SouthKorea', 'Spain', 'Taiwan', 'Thailand', 'Turkey',\n",
       "       'UnitedKingdom', 'UnitedStates', 'Vietnam', 'co_std', 'o3_std',\n",
       "       'so2_std', 'no2_std', 'temperature_std', 'humidity_std', 'pressure_std',\n",
       "       'ws_std', 'dew_std'],\n",
       "      dtype='object')"
      ]
     },
     "execution_count": 3,
     "metadata": {},
     "output_type": "execute_result"
    }
   ],
   "source": [
    "import re\n",
    "train_df = train_df.rename(columns = lambda x:re.sub('[^A-Za-z0-9_]+', '', x))\n",
    "test_df = test_df.rename(columns = lambda x:re.sub('[^A-Za-z0-9_]+', '', x))\n",
    "test_df = test_df.rename(columns = lambda x: x.replace(\" \",\"\"))\n",
    "test_df.columns"
   ]
  },
  {
   "cell_type": "code",
   "execution_count": 4,
   "id": "48d1b43b-515f-40ea-9fe2-133dc139aefd",
   "metadata": {},
   "outputs": [],
   "source": [
    "train_df.to_csv(\"C:/Users/yu886/OneDrive/デスクトップ/github/Sony/Process/train.csv\")\n",
    "test_df.to_csv(\"C:/Users/yu886/OneDrive/デスクトップ/github/Sony/Process/test.csv\")"
   ]
  },
  {
   "cell_type": "code",
   "execution_count": null,
   "id": "7e9b03e4-c920-417c-8a1a-50bf19432153",
   "metadata": {},
   "outputs": [],
   "source": []
  }
 ],
 "metadata": {
  "kernelspec": {
   "display_name": "Python 3",
   "language": "python",
   "name": "python3"
  },
  "language_info": {
   "codemirror_mode": {
    "name": "ipython",
    "version": 3
   },
   "file_extension": ".py",
   "mimetype": "text/x-python",
   "name": "python",
   "nbconvert_exporter": "python",
   "pygments_lexer": "ipython3",
   "version": "3.8.8"
  }
 },
 "nbformat": 4,
 "nbformat_minor": 5
}
