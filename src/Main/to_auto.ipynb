{
 "cells": [
  {
   "cell_type": "code",
   "execution_count": 1,
   "id": "1fb9680c-c43b-49c2-9f3b-0c5aeda15ccd",
   "metadata": {},
   "outputs": [],
   "source": [
    "from sklearn.metrics import mean_absolute_error\n",
    "from sklearn.model_selection import ShuffleSplit\n",
    "import lightgbm as lgb\n",
    "import numpy as np\n",
    "import pandas as pd\n",
    "\n",
    "import os\n",
    "import sys\n",
    "sys.path.append('C:\\\\Users\\\\yu886\\\\OneDrive\\\\デスクトップ\\\\github\\\\Sony\\\\src')\n",
    "\n",
    "from Processing.load_dataset import Load_dataset\n",
    "\n",
    "from Engineering.dummy import engin\n",
    "from Valid.validation import rmse\n",
    "\n",
    "from sklearn.metrics import mean_squared_error\n",
    "from sklearn.metrics import r2_score\n",
    "from sklearn.metrics import mean_absolute_error\n",
    "\n",
    "import warnings\n",
    "warnings.simplefilter('ignore', category=UserWarning)\n",
    "import matplotlib.pyplot as plt\n",
    "from Processing.processing import Submission\n",
    "\n",
    "from Engineering.dummy import engin_2\n",
    "import xgboost as xgb"
   ]
  },
  {
   "cell_type": "code",
   "execution_count": 2,
   "id": "4aa9170d-9c83-4952-b332-585dddd7887c",
   "metadata": {},
   "outputs": [],
   "source": [
    "def add(df_train):\n",
    "    df_train[\"co_avg\"] = df_train[\"co_mid\"] / df_train[\"co_cnt\"]\n",
    "    df_train[\"o3_avg\"] = df_train[\"o3_mid\"] / df_train[\"o3_cnt\"]\n",
    "    df_train[\"so2_avg\"] = df_train[\"so2_mid\"] / df_train[\"so2_cnt\"]\n",
    "    df_train[\"no2_avg\"] = df_train[\"no2_mid\"] / df_train[\"no2_cnt\"]\n",
    "    df_train[\"temperature_avg\"] = df_train[\"temperature_mid\"] / df_train[\"temperature_cnt\"]\n",
    "    df_train[\"humidity_avg\"] = df_train[\"humidity_mid\"] / df_train[\"humidity_cnt\"]\n",
    "    df_train[\"pressure_avg\"] = df_train[\"pressure_mid\"] / df_train[\"pressure_cnt\"]\n",
    "    df_train[\"ws_avg\"] = df_train[\"ws_mid\"] / df_train[\"ws_cnt\"]\n",
    "    df_train[\"dew_avg\"] = df_train[\"dew_mid\"] / df_train[\"dew_cnt\"]\n",
    "    return df_train\n",
    "\n",
    "def add_2(df):\n",
    "    df[\"discomfort\"] = 0.81*df[\"temperature_mid\"] + 0.01*df[\"humidity_mid\"]*(0.99*df[\"temperature_mid\"] - 14.3) + 46.3\n",
    "    return df\n",
    "\n",
    "def add_3(df):\n",
    "    df[\"avg_count\"] = (df_train[\"co_cnt\"] + df_train[\"o3_cnt\"] + df_train[\"so2_cnt\"] + df_train[\"no2_cnt\"] +\n",
    "                       df_train[\"temperature_cnt\"] + df_train[\"humidity_cnt\"] + df_train[\"pressure_cnt\"] + df_train[\"ws_cnt\"] + df_train[\"dew_cnt\"]) / 9\n",
    "    return df"
   ]
  },
  {
   "cell_type": "code",
   "execution_count": 3,
   "id": "2646bb8b-c7eb-4df9-bb30-79052646fc0a",
   "metadata": {},
   "outputs": [],
   "source": [
    "train, test = Load_dataset()\n",
    "\n",
    "df_train = engin_2(train)\n",
    "df_test = engin_2(test)\n",
    "\n",
    "df_train = add(df_train)\n",
    "df_test = add(df_test)\n",
    "\n",
    "df_train = add_2(df_train)\n",
    "df_test = add_2(df_test)\n",
    "\n",
    "df_train = add_3(df_train)\n",
    "df_test = add_3(df_test)\n",
    "\n",
    "target = df_train[\"pm25_mid\"]\n",
    "\n",
    "df_train = df_train.drop([\"id\",\"pm25_mid\"], axis=1)\n",
    "df_test = df_test.drop([\"id\"], axis=1)"
   ]
  },
  {
   "cell_type": "code",
   "execution_count": null,
   "id": "c1e29551-9654-41b2-9a22-ff033a18dd01",
   "metadata": {},
   "outputs": [],
   "source": [
    "FOLD = 5\n",
    "NUM_ROUND = 2000\n",
    "VERBOSE_EVAL = -1\n",
    "\n",
    "params = {\n",
    "    'objective': 'reg:squarederror',\n",
    "    'eval_metric': 'rmse',\n",
    "    'learning_rate':0.01,\n",
    "    'max_depth':6,\n",
    "}\n",
    "\n",
    "valid_scores = []\n",
    "models = []\n",
    "ss = ShuffleSplit(n_splits=FOLD, test_size=0.25, random_state=123)\n",
    "\n",
    "for fold, (train_indices, valid_indices) in enumerate(ss.split(df_train)):\n",
    "    X_train, X_valid = df_train.iloc[train_indices], df_train.iloc[valid_indices]\n",
    "    y_train, y_valid = target.iloc[train_indices], target.iloc[valid_indices]\n",
    "    \n",
    "    dtrain = xgb.DMatrix(X_train, label=y_train)\n",
    "    dtest = xgb.DMatrix(X_valid, label=y_valid)\n",
    "    evals = [(dtrain, 'train'), (dtest, 'eval')]\n",
    "\n",
    "    model = xgb.train(params,\n",
    "                      dtrain,\n",
    "                      num_boost_round=NUM_ROUND,\n",
    "                      evals=evals,\n",
    "                      early_stopping_rounds=20,\n",
    "                      verbose_eval=200\n",
    "                      )\n",
    "    dm_valid = xgb.DMatrix(X_valid)\n",
    "    y_valid_pred = model.predict(dm_valid)\n",
    "    MSE = mean_squared_error(y_valid, y_valid_pred)\n",
    "    r2 = r2_score(y_valid, y_valid_pred)\n",
    "    MAE = mean_absolute_error(y_valid, y_valid_pred)\n",
    "    \n",
    "    print(f'fold {fold} MSE: {MSE} RMSE: {np.sqrt(MSE)} R^2: {r2} MAE: {MAE}')\n",
    "    valid_scores.append(np.sqrt(MSE))\n",
    "    models.append(model)\n",
    "\n",
    "cv_score = np.mean(valid_scores)\n",
    "print(f'CV score: {cv_score}')"
   ]
  },
  {
   "cell_type": "code",
   "execution_count": 14,
   "id": "78ef121c-3abd-4351-a311-89fd9824b781",
   "metadata": {},
   "outputs": [],
   "source": [
    "xgb_test = xgb.DMatrix(df_test)\n",
    "\n",
    "pred_1 = models[0].predict(xgb_test)\n",
    "pred_2 = models[1].predict(xgb_test)\n",
    "pred_3 = models[2].predict(xgb_test)\n",
    "pred_4 = models[3].predict(xgb_test)\n",
    "pred_5 = models[4].predict(xgb_test)\n",
    "\n",
    "pred = np.stack([pred_1, pred_2, pred_3 ,pred_4, pred_5], axis=1)\n",
    "pred = np.mean(pred, axis=1)\n",
    "\n",
    "index = test[\"id\"]\n",
    "Submission(index, pred, name='xgb_count_avg_var')"
   ]
  },
  {
   "cell_type": "code",
   "execution_count": 15,
   "id": "a5d7607e-ab42-42c3-824a-a9e977519871",
   "metadata": {},
   "outputs": [
    {
     "data": {
      "text/plain": [
       "array([26.476385, 40.119514, 25.472378, ..., 67.5683  , 34.386482,\n",
       "       40.19314 ], dtype=float32)"
      ]
     },
     "execution_count": 15,
     "metadata": {},
     "output_type": "execute_result"
    }
   ],
   "source": [
    "pred"
   ]
  },
  {
   "cell_type": "code",
   "execution_count": 4,
   "id": "7ef1f779-b9c3-4ce5-8e7c-f7f259b4de4e",
   "metadata": {},
   "outputs": [],
   "source": [
    "from sklearn.model_selection import KFold\n",
    "\n",
    "publisher_train = train['City']\n",
    "unique_publisher = train['City'].unique()"
   ]
  },
  {
   "cell_type": "code",
   "execution_count": 22,
   "id": "31826c82-2f4b-4ea1-9e80-f97d76a3b496",
   "metadata": {
    "tags": []
   },
   "outputs": [
    {
     "name": "stdout",
     "output_type": "stream",
     "text": [
      "fold 0 MSE: 433.65964670210286 RMSE: 20.824496313286975 R^2: 0.6273265696251071 MAE: 15.144815952647726\n",
      "fold 1 MSE: 490.4381543630323 RMSE: 22.145838307976337 R^2: 0.6555928430461975 MAE: 16.036445026494356\n",
      "fold 2 MSE: 466.7595585954529 RMSE: 21.60461891807983 R^2: 0.6451460579103949 MAE: 15.529845632290147\n",
      "fold 3 MSE: 516.1983216573208 RMSE: 22.719998275909283 R^2: 0.6583782319676745 MAE: 16.527023843550708\n",
      "fold 4 MSE: 621.7459240717869 RMSE: 24.934833548106692 R^2: 0.6951277199706589 MAE: 16.70520602034777\n",
      "CV score: 22.445957072671824\n"
     ]
    }
   ],
   "source": [
    "FOLD = 5\n",
    "NUM_ROUND = 10000\n",
    "VERBOSE_EVAL = -1\n",
    "\n",
    "params = {\n",
    "    'objective': 'regression',\n",
    "    'boosting_type': 'gbdt',\n",
    "    'verbose': -1,\n",
    "    'learning_rate':0.01\n",
    "}\n",
    "\n",
    "valid_scores = []\n",
    "models = []\n",
    "\n",
    "kf = KFold(n_splits=FOLD, shuffle=True, random_state=123)\n",
    "for fold, (tr_group_idx, va_group_idx) in enumerate(kf.split(unique_publisher)):\n",
    "    tr_groups, va_groups = unique_publisher[tr_group_idx], unique_publisher[va_group_idx]\n",
    "    \n",
    "    is_tr = publisher_train.isin(tr_groups)\n",
    "    is_va = publisher_train.isin(va_groups)\n",
    "    # ここでCityの情報を消したい\n",
    "    \n",
    "    X_train, X_valid = df_train[is_tr], df_train[is_va]\n",
    "    y_train, y_valid = target[is_tr], target[is_va]\n",
    "    \n",
    "    X_train = X_train.drop(\"City\" ,axis=1)\n",
    "    X_valid = X_valid.drop(\"City\" ,axis=1)\n",
    "    \n",
    "    lgb_train = lgb.Dataset(X_train, y_train)\n",
    "    lgb_eval = lgb.Dataset(X_valid, y_valid)\n",
    "\n",
    "    model = lgb.train(\n",
    "        params,\n",
    "        lgb_train,\n",
    "        valid_sets=lgb_eval,\n",
    "        num_boost_round=NUM_ROUND,\n",
    "        verbose_eval=VERBOSE_EVAL\n",
    "    )\n",
    "\n",
    "    y_valid_pred = model.predict(X_valid)\n",
    "    MSE = mean_squared_error(y_valid, y_valid_pred)\n",
    "    r2 = r2_score(y_valid, y_valid_pred)\n",
    "    MAE = mean_absolute_error(y_valid, y_valid_pred)\n",
    "    \n",
    "    print(f'fold {fold} MSE: {MSE} RMSE: {np.sqrt(MSE)} R^2: {r2} MAE: {MAE}')\n",
    "    valid_scores.append(np.sqrt(MSE))\n",
    "    models.append(model)\n",
    "\n",
    "cv_score = np.mean(valid_scores)\n",
    "print(f'CV score: {cv_score}')"
   ]
  },
  {
   "cell_type": "code",
   "execution_count": 26,
   "id": "6d61f03b-658b-4490-95af-a03113d55c5f",
   "metadata": {},
   "outputs": [
    {
     "data": {
      "text/plain": [
       "array([25.77790191, 39.14268359, 24.63281223, ..., 67.68930128,\n",
       "       34.0965532 , 37.50456546])"
      ]
     },
     "execution_count": 26,
     "metadata": {},
     "output_type": "execute_result"
    }
   ],
   "source": [
    "# df_test = df_test.drop('City', axis=1)\n",
    "pred_1 = models[0].predict(df_test)\n",
    "pred_2 = models[1].predict(df_test)\n",
    "pred_3 = models[2].predict(df_test)\n",
    "pred_4 = models[3].predict(df_test)\n",
    "pred_5 = models[4].predict(df_test)\n",
    "\n",
    "pred = np.stack([pred_1, pred_2, pred_3 ,pred_4, pred_5], axis=1)\n",
    "pred = np.mean(pred, axis=1)\n",
    "\n",
    "index = test[\"id\"]\n",
    "Submission(index, pred, name='lgb_group')\n",
    "pred"
   ]
  },
  {
   "cell_type": "code",
   "execution_count": null,
   "id": "377da268-f507-4e70-8140-20e4db8fbc20",
   "metadata": {},
   "outputs": [],
   "source": []
  }
 ],
 "metadata": {
  "kernelspec": {
   "display_name": "Python 3",
   "language": "python",
   "name": "python3"
  },
  "language_info": {
   "codemirror_mode": {
    "name": "ipython",
    "version": 3
   },
   "file_extension": ".py",
   "mimetype": "text/x-python",
   "name": "python",
   "nbconvert_exporter": "python",
   "pygments_lexer": "ipython3",
   "version": "3.8.8"
  }
 },
 "nbformat": 4,
 "nbformat_minor": 5
}
