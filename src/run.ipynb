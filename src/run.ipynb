{
 "cells": [
  {
   "cell_type": "code",
   "execution_count": 1,
   "id": "d9bfca95-2c0e-44d5-bcb5-559d0a167188",
   "metadata": {},
   "outputs": [],
   "source": [
    "import pandas as pd\n",
    "import numpy as np\n",
    "import matplotlib.pyplot as plt\n",
    "import warnings\n",
    "warnings.simplefilter('ignore', category=UserWarning)\n",
    "\n",
    "from Processing.load_dataset import Load_dataset\n",
    "from Processing.processing import Split, Valid, Submission\n",
    "from Engineering.enginnering import engin\n",
    "from Valid.validation import rmse\n",
    "\n",
    "from Model.lightgbm import LightGBM\n",
    "from Model.xgboost import XGBOOST\n",
    "from Model.nn import NN\n",
    "from sklearn.metrics import mean_squared_error"
   ]
  },
  {
   "cell_type": "code",
   "execution_count": 39,
   "id": "420413ed-a3dd-450c-afe0-46025b5d30b2",
   "metadata": {},
   "outputs": [],
   "source": [
    "train, test = Load_dataset()\n",
    "\n",
    "# 加工・処理\n",
    "train_df = engin(train)\n",
    "test_df = engin(test)\n",
    "\n",
    "# 提出用\n",
    "index = np.array(test[\"id\"])\n",
    "test_df = test_df.drop(columns=[\"id\"])\n",
    "\n",
    "# val, train, test\n",
    "X_train, X_test, y_train, y_test, index = Split(train_df)\n",
    "X_train, X_valid, y_train, y_valid = Valid(X_train, y_train)"
   ]
  },
  {
   "cell_type": "markdown",
   "id": "a4b6a872-3b45-4f9d-a581-7ed67bc53a08",
   "metadata": {},
   "source": [
    "## NN"
   ]
  },
  {
   "cell_type": "code",
   "execution_count": null,
   "id": "aaa61892-91de-46d7-a644-5935455b1b59",
   "metadata": {},
   "outputs": [],
   "source": [
    "# 学習\n",
    "nn_model = NN(X_train, X_valid, y_train, y_valid, fig=1)"
   ]
  },
  {
   "cell_type": "code",
   "execution_count": 6,
   "id": "37c0d923-d517-4bc6-adf0-b338e8e42ac9",
   "metadata": {},
   "outputs": [
    {
     "name": "stdout",
     "output_type": "stream",
     "text": [
      "RMSE:  22.203138629004858\n"
     ]
    }
   ],
   "source": [
    "# 評価\n",
    "test_predict = nn_model.predict(X_test)\n",
    "rmse(test_predict, y_test)"
   ]
  },
  {
   "cell_type": "code",
   "execution_count": 45,
   "id": "ae438b07-6aaa-498b-bea2-8102cbb99107",
   "metadata": {},
   "outputs": [],
   "source": [
    "# 予測\n",
    "predict_nn = nn_model.predict(test_df)\n",
    "# 提出\n",
    "index = np.array(test[\"id\"])\n",
    "Submission(index, np.ravel(predict_nn), name='nn_2')"
   ]
  },
  {
   "cell_type": "markdown",
   "id": "70ea4d81-636c-4f71-a7d4-998e2302cf00",
   "metadata": {},
   "source": [
    "## light-gbm"
   ]
  },
  {
   "cell_type": "code",
   "execution_count": null,
   "id": "11c3ac4e-171b-4e97-bec3-f3dc2082cb32",
   "metadata": {},
   "outputs": [],
   "source": [
    "# 学習\n",
    "Light_GBM = LightGBM(X_train, X_valid, y_train, y_valid, fig=1)\n",
    "importance = pd.DataFrame(sorted(Light_GBM.feature_importance(), reverse=True), index=X_test.columns, columns=['importance'])\n",
    "plt.figure(figsize=(10,6))\n",
    "plt.bar(X_test.columns[:10], np.ravel(importance.values)[:10])"
   ]
  },
  {
   "cell_type": "code",
   "execution_count": null,
   "id": "7af036ca-0453-4deb-bba1-1d285b0e1cf7",
   "metadata": {},
   "outputs": [],
   "source": [
    "# 評価\n",
    "test_predict = Light_GBM.predict(X_test)\n",
    "rmse(test_predict, y_test)"
   ]
  },
  {
   "cell_type": "code",
   "execution_count": null,
   "id": "93f8241e-627e-4c69-8729-22de0639cdb4",
   "metadata": {},
   "outputs": [],
   "source": [
    "# 予測\n",
    "predict_light_gbm = Light_GBM.predict(data=test_df)\n",
    "\n",
    "# 提出\n",
    "Submission(index, predict_light_gbm, name='4')"
   ]
  },
  {
   "cell_type": "markdown",
   "id": "cdb56981-846e-4b28-805c-d87ec429bb29",
   "metadata": {},
   "source": [
    "## xgboost"
   ]
  },
  {
   "cell_type": "code",
   "execution_count": null,
   "id": "75e3a0e3-80f2-474a-9654-4cf9ea36556e",
   "metadata": {},
   "outputs": [],
   "source": [
    "xgboost = XGBOOST(X_train, X_valid, y_train, y_valid, fig=1)"
   ]
  },
  {
   "cell_type": "code",
   "execution_count": null,
   "id": "a0d8f2c0-dcc2-4e18-bc6e-4ebb165e343f",
   "metadata": {},
   "outputs": [],
   "source": [
    "importance = list(xgboost.get_score(importance_type='weight').values())\n",
    "col = list(xgboost.get_score(importance_type='weight').keys())\n",
    "plt.figure(figsize=(10,6))\n",
    "plt.bar(col, importance)"
   ]
  },
  {
   "cell_type": "code",
   "execution_count": null,
   "id": "dee0c576-0a07-4517-9ebe-0f2cc4ae4e36",
   "metadata": {},
   "outputs": [],
   "source": [
    "# 評価\n",
    "import xgboost as xgb\n",
    "dm_test = xgb.DMatrix(X_test)\n",
    "test_predict = xgboost.predict(dm_test)\n",
    "rmse(test_predict, y_test)"
   ]
  },
  {
   "cell_type": "code",
   "execution_count": null,
   "id": "edb877d5-0e9d-4d8e-8ffd-9cce88934581",
   "metadata": {},
   "outputs": [],
   "source": [
    "# 予測\n",
    "test = xgb.DMatrix(test_df)\n",
    "predict_xgboost = xgboost.predict(test, ntree_limit=xgboost.best_ntree_limit)\n",
    "\n",
    "Submission(index, predict_xgboost, name='xgb_1')"
   ]
  }
 ],
 "metadata": {
  "kernelspec": {
   "display_name": "Python 3",
   "language": "python",
   "name": "python3"
  },
  "language_info": {
   "codemirror_mode": {
    "name": "ipython",
    "version": 3
   },
   "file_extension": ".py",
   "mimetype": "text/x-python",
   "name": "python",
   "nbconvert_exporter": "python",
   "pygments_lexer": "ipython3",
   "version": "3.8.8"
  }
 },
 "nbformat": 4,
 "nbformat_minor": 5
}
